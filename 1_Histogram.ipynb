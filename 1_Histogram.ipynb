{
 "cells": [
  {
   "cell_type": "markdown",
   "metadata": {},
   "source": [
    "# Visualisation data for drummer one: phrases 36 - 89"
   ]
  },
  {
   "cell_type": "code",
   "execution_count": 1,
   "metadata": {
    "collapsed": true
   },
   "outputs": [],
   "source": [
    "%matplotlib inline\n",
    "import numpy as np\n",
    "import scipy\n",
    "import matplotlib.pyplot as plt\n",
    "import IPython.display\n",
    "import essentia\n",
    "import essentia.standard as es\n",
    "import librosa\n",
    "import librosa.display\n",
    "import pandas as pd\n",
    "from collections import Counter\n",
    "import os\n",
    "import pandas as pd\n",
    "from utils import *"
   ]
  },
  {
   "cell_type": "code",
   "execution_count": 2,
   "metadata": {
    "collapsed": true
   },
   "outputs": [],
   "source": [
    "# for f in *.csv; do cut -d' ' -f2 --complement $f > onset.$f; done\n",
    "# cut out annotations and reduce csv-file to one row"
   ]
  },
  {
   "cell_type": "code",
   "execution_count": 3,
   "metadata": {
    "collapsed": false
   },
   "outputs": [],
   "source": [
    "beat_outliers = []\n",
    "beats = []\n",
    "devs = []"
   ]
  },
  {
   "cell_type": "markdown",
   "metadata": {},
   "source": [
    "Create a metrical grid (with Essentia beat estimation and linspace; compare humanly annotated onsets against this grid.\n",
    "\n",
    "Problem: note all the songs have beats %4, so either the audio-files have to be cleaned, or the songs use a different time signature than 4/4. "
   ]
  },
  {
   "cell_type": "code",
   "execution_count": 4,
   "metadata": {
    "collapsed": false,
    "scrolled": true
   },
   "outputs": [
    {
     "name": "stdout",
     "output_type": "stream",
     "text": [
      "The song is probably in 4/4\n",
      "The song is probably in 4/4\n",
      "The song is probably in 4/4\n",
      "The song is probably in 4/4\n",
      "The song is probably in 4/4\n",
      "The song is probably in 4/4\n",
      "The song is probably in 4/4\n",
      "The song is probably in 4/4\n",
      "The song is probably in 4/4\n",
      "The song is probably in 4/4\n",
      "The song is probably in 4/4\n",
      "The song is probably in 4/4\n",
      "The song is probably in 4/4\n",
      "The song is probably in 4/4\n"
     ]
    }
   ],
   "source": [
    "for file in os.listdir('sounds/'):\n",
    "\n",
    "    beats=[]\n",
    "    idealSixteenths = []\n",
    "    init_beat = []\n",
    "    end_beat = []\n",
    "    \n",
    "    if '.wav' not in file: continue\n",
    "    filename = file\n",
    "    load_file = 'sounds/' + filename  \n",
    "    \n",
    "    # load audio \n",
    "    loader = es.MonoLoader(filename=load_file)\n",
    "    audio = loader()\n",
    "\n",
    "    # find beats\n",
    "    bt = es.BeatTrackerMultiFeature()\n",
    "    beats, _ = bt(audio)\n",
    "\n",
    "    # check if beats are %4\n",
    "    if len(beats)%4 == 0:\n",
    "        print 'The song is probably in 4/4'\n",
    "    else:\n",
    "        beat_outliers.append(file)\n",
    "    # save graph to specific folder\n",
    "\n",
    "    # create metrical grid:\n",
    "    a = len(beats) - 1\n",
    "    init_beat = beats[0]\n",
    "    end_beat = beats[a]\n",
    "\n",
    "    # equally spaced lines\n",
    "    ids_range = len(beats)*4\n",
    "    idealSixteenths = np.linspace(init_beat, end_beat, ids_range)\n",
    "\n",
    "    #file = filename\n",
    "    #filejpg = 'plots/'+'plot.' + file[:-3] + 'png'\n",
    "\n",
    "    #fs=44100\n",
    "    #t = np.arange(len(audio))/float(fs)\n",
    "    #plt.plot(t, audio)\n",
    "    #for loc in idealSixteenths:\n",
    "    #    plt.axvline(x=loc, color='y')\n",
    "    #for i in range(len(beats)):\n",
    "    #    plt.axvline(idealSixteenths[4*i], color = 'r')\n",
    "\n",
    "    #title = file[:-4] \n",
    "    #plt.title(title)\n",
    "    #plt.xlabel('time')\n",
    "    #plt.ylabel('audio')\n",
    "    #plt.savefig(filejpg)\n",
    "    #plt.close()\n",
    "\n",
    "    # save metrical grid to file\n",
    "    # should be used for later analysis of the instruments\n",
    "\n",
    "    filetxt = 'metrical_grid/'+'metgrid.' + file[:-3] + 'txt' #or csv?\n",
    "    np.savetxt(filetxt, idealSixteenths)\n",
    "\n",
    "    # read annotated onsets from csv-file\n",
    "    read_onset = 'onsets/' + 'onset.' + filename[:-3] + 'csv'\n",
    "    onsets = np.genfromtxt(read_onset)\n",
    "\n",
    "    # find nearest neighbour\n",
    "\n",
    "    for onset in onsets:\n",
    "        devs.append(nearestNeighbour(onset, idealSixteenths))\n",
    "\n",
    "    # print devs\n",
    "    \n",
    "    # see amount of onsets per ideal sixteenths:\n",
    "    # Counter(elem[0] for elem in devs)"
   ]
  },
  {
   "cell_type": "code",
   "execution_count": 5,
   "metadata": {
    "collapsed": false
   },
   "outputs": [
    {
     "data": {
      "text/plain": [
       "[(2.0, 0.032),\n",
       " (2.0, 0.033),\n",
       " (6.0, 0.012),\n",
       " (6.0, 0.013),\n",
       " (9.0, -0.024),\n",
       " (10.0, -0.004),\n",
       " (10.0, 0.002),\n",
       " (13.0, -0.035),\n",
       " (13.0, -0.003),\n",
       " (14.0, 0.0),\n",
       " (14.0, 0.016),\n",
       " (1.0, -0.032),\n",
       " (1.0, 0.016),\n",
       " (2.0, -0.006),\n",
       " (2.0, 0.034),\n",
       " (5.0, -0.031),\n",
       " (5.0, -0.027),\n",
       " (6.0, 0.018),\n",
       " (6.0, 0.031),\n",
       " (9.0, -0.017),\n",
       " (9.0, 0.004),\n",
       " (10.0, 0.005),\n",
       " (11.0, -0.035),\n",
       " (13.0, -0.026),\n",
       " (13.0, -0.023),\n",
       " (14.0, 0.025),\n",
       " (14.0, 0.031),\n",
       " (16.0, 0.04),\n",
       " (1.0, -0.022),\n",
       " (2.0, 0.017),\n",
       " (5.0, -0.032),\n",
       " (5.0, -0.018),\n",
       " (6.0, 0.011),\n",
       " (7.0, -0.039),\n",
       " (7.0, -0.038),\n",
       " (9.0, 0.01),\n",
       " (10.0, -0.018),\n",
       " (10.0, 0.038),\n",
       " (11.0, 0.025),\n",
       " (13.0, 0.023),\n",
       " (13.0, 0.024),\n",
       " (15.0, -0.01),\n",
       " (15.0, -0.008),\n",
       " (1.0, 0.028),\n",
       " (2.0, -0.023),\n",
       " (3.0, -0.024),\n",
       " (3.0, -0.018),\n",
       " (5.0, 0.026),\n",
       " (5.0, 0.039),\n",
       " (7.0, -0.004),\n",
       " (7.0, -0.002),\n",
       " (10.0, -0.035),\n",
       " (10.0, -0.03),\n",
       " (11.0, -0.008),\n",
       " (14.0, -0.034),\n",
       " (14.0, -0.031),\n",
       " (15.0, 0.014),\n",
       " (15.0, 0.015),\n",
       " (2.0, -0.034),\n",
       " (2.0, -0.034),\n",
       " (3.0, 0.019),\n",
       " (5.0, -0.04),\n",
       " (6.0, -0.017),\n",
       " (6.0, 0.025),\n",
       " (8.0, 0.017),\n",
       " (8.0, 0.017),\n",
       " (11.0, -0.01),\n",
       " (11.0, -0.007),\n",
       " (12.0, 0.021),\n",
       " (12.0, 0.028),\n",
       " (15.0, -0.026),\n",
       " (15.0, -0.007),\n",
       " (16.0, 0.026),\n",
       " (16.0, 0.028),\n",
       " (3.0, 0.006),\n",
       " (3.0, 0.01),\n",
       " (4.0, 0.028),\n",
       " (5.0, -0.029),\n",
       " (6.0, -0.019),\n",
       " (7.0, 0.002),\n",
       " (7.0, 0.019),\n",
       " (9.0, -0.038),\n",
       " (9.0, -0.037),\n",
       " (11.0, 0.011),\n",
       " (11.0, 0.032),\n",
       " (12.0, 0.04),\n",
       " (13.0, -0.013),\n",
       " (14.0, -0.039),\n",
       " (15.0, 0.007),\n",
       " (15.0, 0.023),\n",
       " (1.0, -0.033),\n",
       " (1.0, -0.025),\n",
       " (3.0, 0.005),\n",
       " (3.0, 0.014),\n",
       " (4.0, -0.022),\n",
       " (5.0, -0.007),\n",
       " (9.0, -0.025),\n",
       " (10.0, -0.002),\n",
       " (11.0, 0.026),\n",
       " (13.0, -0.023),\n",
       " (15.0, 0.022),\n",
       " (1.0, -0.034),\n",
       " (2.0, -0.008),\n",
       " (3.0, 0.01),\n",
       " (5.0, -0.033),\n",
       " (6.0, -0.014),\n",
       " (7.0, -0.006),\n",
       " (7.0, 0.004),\n",
       " (8.0, 0.031),\n",
       " (10.0, -0.031),\n",
       " (11.0, -0.014),\n",
       " (12.0, 0.03),\n",
       " (13.0, 0.032),\n",
       " (16.0, -0.022),\n",
       " (1.0, 0.031),\n",
       " (3.0, 0.008),\n",
       " (3.0, 0.01),\n",
       " (3.0, 0.03),\n",
       " (1.0, -0.008),\n",
       " (1.0, -0.004),\n",
       " (5.0, 0.034),\n",
       " (5.0, 0.037),\n",
       " (9.0, -0.018),\n",
       " (9.0, 0.008),\n",
       " (12.0, 0.042),\n",
       " (13.0, -0.028),\n",
       " (14.0, -0.019),\n",
       " (14.0, -0.001),\n",
       " (14.0, 0.001),\n",
       " (1.0, -0.046),\n",
       " (1.0, -0.043),\n",
       " (2.0, 0.002),\n",
       " (2.0, 0.014),\n",
       " (5.0, -0.034),\n",
       " (5.0, -0.025),\n",
       " (6.0, 0.014),\n",
       " (6.0, 0.017),\n",
       " (7.0, -0.048),\n",
       " (9.0, -0.021),\n",
       " (9.0, 0.007),\n",
       " (10.0, 0.03),\n",
       " (10.0, 0.044),\n",
       " (13.0, 0.017),\n",
       " (13.0, 0.018),\n",
       " (14.0, 0.047),\n",
       " (15.0, -0.034),\n",
       " (15.0, -0.032),\n",
       " (1.0, 0.019),\n",
       " (1.0, 0.027),\n",
       " (1.0, 0.041),\n",
       " (3.0, -0.036),\n",
       " (3.0, -0.028),\n",
       " (5.0, 0.038),\n",
       " (6.0, -0.038),\n",
       " (7.0, -0.013),\n",
       " (7.0, -0.003),\n",
       " (7.0, -0.001),\n",
       " (9.0, 0.034),\n",
       " (10.0, -0.041),\n",
       " (11.0, 0.003),\n",
       " (11.0, 0.003),\n",
       " (13.0, 0.048),\n",
       " (14.0, -0.043),\n",
       " (15.0, 0.008),\n",
       " (15.0, 0.025),\n",
       " (15.0, 0.027),\n",
       " (2.0, -0.021),\n",
       " (2.0, -0.016),\n",
       " (2.0, 0.003),\n",
       " (3.0, 0.018),\n",
       " (3.0, 0.029),\n",
       " (5.0, -0.044),\n",
       " (6.0, -0.011),\n",
       " (6.0, 0.02),\n",
       " (7.0, 0.018),\n",
       " (7.0, 0.022),\n",
       " (8.0, 0.005),\n",
       " (10.0, -0.038),\n",
       " (10.0, 0.007),\n",
       " (11.0, 0.012),\n",
       " (12.0, -0.036),\n",
       " (13.0, -0.048),\n",
       " (13.0, -0.043),\n",
       " (14.0, 0.015),\n",
       " (14.0, 0.025),\n",
       " (15.0, 0.017),\n",
       " (16.0, -0.048),\n",
       " (2.0, -0.039),\n",
       " (2.0, -0.029),\n",
       " (2.0, 0.01),\n",
       " (3.0, 0.015),\n",
       " (3.0, 0.048),\n",
       " (6.0, 0.003),\n",
       " (6.0, 0.022),\n",
       " (7.0, 0.016),\n",
       " (7.0, 0.041),\n",
       " (7.0, 0.041),\n",
       " (10.0, -0.003),\n",
       " (10.0, 0.027),\n",
       " (11.0, 0.022),\n",
       " (12.0, -0.038),\n",
       " (14.0, 0.021),\n",
       " (15.0, 0.04),\n",
       " (16.0, -0.04),\n",
       " (16.0, -0.013),\n",
       " (2.0, 0.027),\n",
       " (2.0, 0.029),\n",
       " (2.0, 0.03),\n",
       " (4.0, -0.024),\n",
       " (4.0, -0.022),\n",
       " (6.0, 0.037),\n",
       " (7.0, -0.044),\n",
       " (8.0, -0.035),\n",
       " (8.0, -0.034),\n",
       " (8.0, -0.026),\n",
       " (9.0, 0.014),\n",
       " (10.0, 0.034),\n",
       " (10.0, 0.036),\n",
       " (12.0, -0.034),\n",
       " (12.0, -0.024),\n",
       " (12.0, 0.018),\n",
       " (14.0, 0.038),\n",
       " (14.0, 0.047),\n",
       " (15.0, -0.048),\n",
       " (16.0, 0.001),\n",
       " (16.0, 0.008),\n",
       " (16.0, 0.024),\n",
       " (3.0, -0.037),\n",
       " (3.0, -0.034),\n",
       " (3.0, -0.032),\n",
       " (4.0, 0.004),\n",
       " (4.0, 0.007),\n",
       " (5.0, 0.028),\n",
       " (7.0, -0.038),\n",
       " (7.0, -0.034),\n",
       " (7.0, -0.024),\n",
       " (8.0, -0.004),\n",
       " (8.0, -0.001),\n",
       " (9.0, 0.037),\n",
       " (11.0, -0.04),\n",
       " (11.0, -0.022),\n",
       " (12.0, -0.008),\n",
       " (12.0, -0.001),\n",
       " (13.0, 0.026),\n",
       " (15.0, -0.042),\n",
       " (15.0, -0.032),\n",
       " (16.0, -0.024),\n",
       " (16.0, -0.004),\n",
       " (3.0, -0.041),\n",
       " (3.0, -0.018),\n",
       " (4.0, -0.017),\n",
       " (4.0, 0.007),\n",
       " (6.0, 0.043),\n",
       " (8.0, -0.013),\n",
       " (9.0, 0.002),\n",
       " (10.0, 0.029),\n",
       " (10.0, 0.039),\n",
       " (12.0, -0.042),\n",
       " (15.0, -0.048),\n",
       " (16.0, -0.012),\n",
       " (2.0, 0.048),\n",
       " (3.0, -0.046),\n",
       " (3.0, -0.056),\n",
       " (3.0, -0.047),\n",
       " (7.0, -0.042),\n",
       " (7.0, -0.031),\n",
       " (7.0, -0.027),\n",
       " (11.0, -0.037),\n",
       " (11.0, -0.027),\n",
       " (11.0, -0.023),\n",
       " (15.0, -0.007),\n",
       " (1.0, -0.007),\n",
       " (1.0, 0.006),\n",
       " (3.0, 0.021),\n",
       " (3.0, 0.048),\n",
       " (3.0, 0.05),\n",
       " (7.0, 0.052),\n",
       " (7.0, 0.055),\n",
       " (10.0, -0.025),\n",
       " (10.0, -0.024),\n",
       " (14.0, -0.024),\n",
       " (14.0, -0.008),\n",
       " (16.0, 0.002),\n",
       " (16.0, 0.003),\n",
       " (2.0, -0.032),\n",
       " (2.0, -0.031),\n",
       " (4.0, -0.002),\n",
       " (4.0, -0.001),\n",
       " (4.0, 0.006),\n",
       " (8.0, -0.011),\n",
       " (8.0, 0.008),\n",
       " (8.0, 0.008),\n",
       " (12.0, 0.004),\n",
       " (12.0, 0.049),\n",
       " (14.0, 0.009),\n",
       " (14.0, 0.009),\n",
       " (2.0, 0.009),\n",
       " (4.0, -0.005),\n",
       " (6.0, 0.0),\n",
       " (8.0, -0.024),\n",
       " (10.0, -0.038),\n",
       " (12.0, -0.024),\n",
       " (12.0, -0.021),\n",
       " (14.0, -0.031),\n",
       " (16.0, -0.045),\n",
       " (1.0, 0.046),\n",
       " (1.0, 0.054),\n",
       " (3.0, 0.051),\n",
       " (6.0, -0.017),\n",
       " (8.0, -0.023),\n",
       " (8.0, -0.022),\n",
       " (12.0, -0.04),\n",
       " (12.0, -0.037),\n",
       " (12.0, -0.023),\n",
       " (13.0, 0.046),\n",
       " (16.0, -0.046),\n",
       " (16.0, -0.037),\n",
       " (2.0, -0.024),\n",
       " (4.0, -0.022),\n",
       " (4.0, -0.021),\n",
       " (7.0, 0.043),\n",
       " (7.0, 0.047),\n",
       " (10.0, -0.028),\n",
       " (10.0, -0.028),\n",
       " (13.0, 0.035),\n",
       " (14.0, -0.052),\n",
       " (16.0, -0.041),\n",
       " (16.0, -0.041),\n",
       " (1.0, 0.026),\n",
       " (2.0, -0.05),\n",
       " (3.0, 0.05),\n",
       " (4.0, -0.054),\n",
       " (8.0, -0.021),\n",
       " (8.0, -0.021),\n",
       " (12.0, -0.018),\n",
       " (12.0, -0.018),\n",
       " (14.0, -0.034),\n",
       " (16.0, -0.027),\n",
       " (2.0, -0.033),\n",
       " (4.0, -0.039),\n",
       " (4.0, -0.038),\n",
       " (6.0, -0.05),\n",
       " (7.0, -0.055),\n",
       " (9.0, 0.032),\n",
       " (11.0, 0.023),\n",
       " (13.0, 0.009),\n",
       " (15.0, 0.014),\n",
       " (1.0, 0.017),\n",
       " (1.0, 0.017),\n",
       " (3.0, 0.019),\n",
       " (1.0, -0.252),\n",
       " (1.0, -0.249),\n",
       " (1.0, -0.029),\n",
       " (2.0, -0.054),\n",
       " (2.0, -0.053),\n",
       " (3.0, -0.005),\n",
       " (3.0, 0.014),\n",
       " (4.0, -0.054),\n",
       " (4.0, -0.035),\n",
       " (5.0, -0.01),\n",
       " (5.0, -0.009),\n",
       " (6.0, -0.04),\n",
       " (6.0, -0.037),\n",
       " (7.0, 0.007),\n",
       " (7.0, 0.009),\n",
       " (8.0, -0.029),\n",
       " (8.0, -0.025),\n",
       " (9.0, 0.029),\n",
       " (9.0, 0.033),\n",
       " (10.0, -0.028),\n",
       " (10.0, -0.021),\n",
       " (10.0, -0.02),\n",
       " (10.0, -0.018),\n",
       " (11.0, 0.051),\n",
       " (11.0, 0.07),\n",
       " (12.0, -0.018),\n",
       " (12.0, 0.008),\n",
       " (12.0, 0.013),\n",
       " (13.0, -0.084),\n",
       " (14.0, 0.008),\n",
       " (14.0, 0.026),\n",
       " (14.0, 0.029),\n",
       " (14.0, 0.03),\n",
       " (16.0, -0.085),\n",
       " (16.0, -0.069),\n",
       " (16.0, -0.041),\n",
       " (1.0, 0.001),\n",
       " (2.0, -0.064),\n",
       " (2.0, -0.04),\n",
       " (2.0, 0.083),\n",
       " (3.0, -0.085),\n",
       " (3.0, -0.079),\n",
       " (4.0, -0.047),\n",
       " (4.0, -0.03),\n",
       " (4.0, 0.005),\n",
       " (5.0, -0.06),\n",
       " (5.0, -0.032),\n",
       " (6.0, -0.01),\n",
       " (6.0, -0.004),\n",
       " (7.0, -0.042),\n",
       " (7.0, -0.042),\n",
       " (7.0, -0.035),\n",
       " (8.0, 0.013),\n",
       " (8.0, 0.015),\n",
       " (9.0, -0.039),\n",
       " (9.0, -0.032),\n",
       " (10.0, 0.028),\n",
       " (10.0, 0.031),\n",
       " (11.0, -0.032),\n",
       " (11.0, -0.012),\n",
       " (11.0, -0.01),\n",
       " (12.0, 0.034),\n",
       " (12.0, 0.053),\n",
       " (13.0, -0.017),\n",
       " (13.0, -0.01),\n",
       " (14.0, 0.053),\n",
       " (14.0, 0.057),\n",
       " (15.0, -0.004),\n",
       " (15.0, -0.001),\n",
       " (15.0, 0.003),\n",
       " (15.0, 0.005),\n",
       " (16.0, 0.044),\n",
       " (16.0, 0.054),\n",
       " (16.0, 0.077),\n",
       " (1.0, 0.007),\n",
       " (1.0, 0.007),\n",
       " (2.0, -0.065),\n",
       " (2.0, 0.075),\n",
       " (3.0, 0.01),\n",
       " (3.0, 0.036),\n",
       " (3.0, 0.037),\n",
       " (4.0, 0.066),\n",
       " (4.0, 0.081),\n",
       " (5.0, 0.022),\n",
       " (5.0, 0.044),\n",
       " (6.0, 0.084),\n",
       " (7.0, -0.066),\n",
       " (7.0, 0.026),\n",
       " (7.0, 0.036),\n",
       " (7.0, 0.045),\n",
       " (8.0, 0.077),\n",
       " (8.0, 0.08),\n",
       " (9.0, -0.082),\n",
       " (9.0, 0.072),\n",
       " (11.0, -0.066),\n",
       " (11.0, -0.046),\n",
       " (11.0, 0.053),\n",
       " (11.0, 0.063),\n",
       " (11.0, 0.069),\n",
       " (13.0, -0.035),\n",
       " (13.0, -0.025),\n",
       " (13.0, 0.079),\n",
       " (14.0, -0.079),\n",
       " (15.0, -0.025),\n",
       " (15.0, -0.019),\n",
       " (15.0, 0.082),\n",
       " (15.0, 0.085),\n",
       " (16.0, -0.081),\n",
       " (16.0, -0.075),\n",
       " (1.0, -0.042),\n",
       " (1.0, -0.028),\n",
       " (1.0, -0.019),\n",
       " (2.0, -0.081),\n",
       " (2.0, -0.071),\n",
       " (3.0, -0.022),\n",
       " (3.0, 0.016),\n",
       " (4.0, -0.07),\n",
       " (4.0, -0.038),\n",
       " (4.0, -0.034),\n",
       " (5.0, -0.006),\n",
       " (5.0, 0.003),\n",
       " (6.0, -0.043),\n",
       " (6.0, -0.041),\n",
       " (7.0, 0.023),\n",
       " (7.0, 0.048),\n",
       " (8.0, -0.033),\n",
       " (8.0, -0.023),\n",
       " (8.0, -0.02),\n",
       " (9.0, 0.025),\n",
       " (9.0, 0.028),\n",
       " (9.0, 0.03),\n",
       " (10.0, -0.028),\n",
       " (10.0, 0.057),\n",
       " (11.0, -0.064),\n",
       " (11.0, 0.037),\n",
       " (11.0, 0.065),\n",
       " (12.0, -0.016),\n",
       " (12.0, -0.015),\n",
       " (12.0, -0.015),\n",
       " (13.0, -0.073),\n",
       " (13.0, 0.023),\n",
       " (13.0, 0.044),\n",
       " (14.0, -0.028),\n",
       " (14.0, -0.016),\n",
       " (14.0, 0.081),\n",
       " (15.0, 0.023),\n",
       " (15.0, 0.03),\n",
       " (16.0, -0.03),\n",
       " (16.0, -0.025),\n",
       " (1.0, 0.011),\n",
       " (4.0, 0.009),\n",
       " (4.0, 0.029),\n",
       " (7.0, 0.001),\n",
       " (8.0, 0.032),\n",
       " (10.0, -0.04),\n",
       " (11.0, -0.007),\n",
       " (12.0, 0.031),\n",
       " (13.0, -0.043),\n",
       " (15.0, 0.009),\n",
       " (1.0, -0.035),\n",
       " (2.0, -0.015),\n",
       " (3.0, 0.014),\n",
       " (5.0, -0.029),\n",
       " (5.0, -0.025),\n",
       " (7.0, 0.038),\n",
       " (9.0, -0.032),\n",
       " (10.0, 0.022),\n",
       " (12.0, -0.042),\n",
       " (13.0, -0.002),\n",
       " (13.0, 0.002),\n",
       " (14.0, 0.019),\n",
       " (14.0, 0.024),\n",
       " (16.0, -0.042),\n",
       " (16.0, -0.038),\n",
       " (1.0, -0.017),\n",
       " (1.0, -0.012),\n",
       " (2.0, 0.03),\n",
       " (4.0, -0.034),\n",
       " (5.0, -0.009),\n",
       " (5.0, 0.019),\n",
       " (8.0, -0.008),\n",
       " (9.0, -0.0),\n",
       " (11.0, -0.034),\n",
       " (12.0, -0.016),\n",
       " (13.0, 0.031),\n",
       " (13.0, 0.042),\n",
       " (15.0, -0.038),\n",
       " (16.0, -0.009),\n",
       " (1.0, 0.023),\n",
       " (1.0, 0.031),\n",
       " (3.0, -0.03),\n",
       " (4.0, -0.001),\n",
       " (5.0, 0.007),\n",
       " (5.0, 0.032),\n",
       " (8.0, 0.004),\n",
       " (9.0, 0.009),\n",
       " (11.0, -0.028),\n",
       " (12.0, 0.003),\n",
       " (13.0, 0.02),\n",
       " (14.0, -0.044),\n",
       " (16.0, -0.004),\n",
       " (1.0, 0.008),\n",
       " (1.0, 0.041),\n",
       " (3.0, -0.02),\n",
       " (4.0, 0.006),\n",
       " (5.0, -0.026),\n",
       " (5.0, 0.042),\n",
       " (6.0, -0.046),\n",
       " (8.0, -0.003),\n",
       " (9.0, -0.009),\n",
       " (11.0, -0.0),\n",
       " (12.0, 0.025),\n",
       " (13.0, -0.005),\n",
       " (14.0, -0.021),\n",
       " (15.0, -0.032),\n",
       " (16.0, 0.013),\n",
       " (1.0, 0.024),\n",
       " (2.0, -0.027),\n",
       " (5.0, 0.032),\n",
       " (5.0, 0.041),\n",
       " (8.0, 0.008),\n",
       " (10.0, -0.039),\n",
       " (11.0, 0.01),\n",
       " (12.0, 0.038),\n",
       " (14.0, -0.024),\n",
       " (14.0, -0.006),\n",
       " (15.0, 0.015),\n",
       " (1.0, -0.043),\n",
       " (2.0, -0.034),\n",
       " (2.0, -0.028),\n",
       " (3.0, 0.005),\n",
       " (4.0, 0.03),\n",
       " (6.0, -0.035),\n",
       " (6.0, -0.03),\n",
       " (8.0, 0.043),\n",
       " (10.0, -0.034),\n",
       " (10.0, 0.003),\n",
       " (11.0, 0.03),\n",
       " (12.0, 0.036),\n",
       " (13.0, -0.041),\n",
       " (14.0, -0.009),\n",
       " (14.0, 0.005),\n",
       " (14.0, 0.025),\n",
       " (15.0, 0.031),\n",
       " (1.0, -0.04),\n",
       " (2.0, -0.002),\n",
       " (2.0, 0.013),\n",
       " (5.0, -0.034),\n",
       " (5.0, -0.026),\n",
       " (6.0, 0.007),\n",
       " (6.0, 0.015),\n",
       " (6.0, 0.019),\n",
       " (8.0, -0.041),\n",
       " (8.0, -0.035),\n",
       " (9.0, -0.004),\n",
       " (9.0, 0.002),\n",
       " (10.0, 0.035),\n",
       " (12.0, -0.036),\n",
       " (12.0, -0.022),\n",
       " (13.0, -0.006),\n",
       " (13.0, 0.007),\n",
       " (14.0, 0.035),\n",
       " (14.0, 0.038),\n",
       " (14.0, 0.042),\n",
       " (1.0, -0.002),\n",
       " (1.0, -0.001),\n",
       " (2.0, 0.034),\n",
       " (2.0, 0.034),\n",
       " (3.0, -0.038),\n",
       " (4.0, -0.008),\n",
       " (5.0, -0.015),\n",
       " (5.0, -0.003),\n",
       " (6.0, -0.003),\n",
       " (7.0, -0.006),\n",
       " (9.0, 0.017),\n",
       " (9.0, 0.02),\n",
       " (11.0, 0.026),\n",
       " (13.0, 0.051),\n",
       " (13.0, 0.057),\n",
       " (14.0, 0.056),\n",
       " (15.0, 0.043),\n",
       " (1.0, 0.049),\n",
       " (1.0, 0.065),\n",
       " (1.0, 0.065),\n",
       " (4.0, -0.064),\n",
       " (4.0, -0.058),\n",
       " (6.0, -0.042),\n",
       " (6.0, -0.037),\n",
       " (7.0, -0.018),\n",
       " (8.0, -0.042),\n",
       " (10.0, -0.019),\n",
       " (10.0, -0.018),\n",
       " (10.0, -0.014),\n",
       " (12.0, -0.024),\n",
       " (13.0, 0.004),\n",
       " (14.0, 0.008),\n",
       " (14.0, 0.015),\n",
       " (15.0, 0.022),\n",
       " (16.0, 0.004),\n",
       " (1.0, 0.033),\n",
       " (2.0, 0.006),\n",
       " (2.0, 0.009),\n",
       " (2.0, 0.035),\n",
       " (3.0, 0.031),\n",
       " (4.0, 0.013),\n",
       " (5.0, 0.009),\n",
       " (6.0, -0.009),\n",
       " (6.0, -0.008),\n",
       " (6.0, 0.012),\n",
       " (7.0, 0.03),\n",
       " (8.0, 0.009),\n",
       " (10.0, 0.023),\n",
       " (10.0, 0.028),\n",
       " (10.0, 0.031),\n",
       " (12.0, 0.023),\n",
       " (14.0, 0.034),\n",
       " (14.0, 0.044),\n",
       " (15.0, 0.049),\n",
       " (16.0, 0.047),\n",
       " (2.0, 0.044),\n",
       " (2.0, 0.054),\n",
       " (3.0, -0.06),\n",
       " (5.0, -0.048),\n",
       " (5.0, -0.048),\n",
       " (6.0, -0.051),\n",
       " (6.0, 0.053),\n",
       " (7.0, -0.012),\n",
       " (8.0, -0.022),\n",
       " (9.0, -0.034),\n",
       " (11.0, -0.055),\n",
       " (11.0, -0.028),\n",
       " (11.0, -0.027),\n",
       " (13.0, -0.035),\n",
       " (14.0, -0.03),\n",
       " (14.0, 0.05),\n",
       " (15.0, -0.057),\n",
       " (15.0, -0.021),\n",
       " (15.0, -0.009),\n",
       " (16.0, 0.001),\n",
       " (1.0, -0.026),\n",
       " (2.0, -0.032),\n",
       " (2.0, 0.054),\n",
       " (2.0, 0.059),\n",
       " (3.0, -0.028),\n",
       " (4.0, -0.032),\n",
       " (5.0, -0.035),\n",
       " (6.0, -0.032),\n",
       " (7.0, -0.062),\n",
       " (7.0, -0.041),\n",
       " (7.0, -0.018),\n",
       " (3.0, -0.01),\n",
       " (3.0, -0.004),\n",
       " (4.0, 0.001),\n",
       " (5.0, -0.003),\n",
       " (7.0, -0.005),\n",
       " (7.0, 0.001),\n",
       " (7.0, 0.006),\n",
       " (9.0, 0.007),\n",
       " (11.0, 0.026),\n",
       " (11.0, 0.028),\n",
       " (12.0, 0.042),\n",
       " (13.0, 0.037),\n",
       " (15.0, 0.061),\n",
       " (15.0, 0.063),\n",
       " (15.0, 0.064),\n",
       " (1.0, 0.062),\n",
       " (4.0, -0.066),\n",
       " (4.0, -0.062),\n",
       " (5.0, -0.051),\n",
       " (6.0, -0.055),\n",
       " (8.0, -0.033),\n",
       " (8.0, -0.03),\n",
       " (8.0, -0.029),\n",
       " (10.0, -0.03),\n",
       " (10.0, -0.029),\n",
       " (11.0, -0.039),\n",
       " (12.0, -0.015),\n",
       " (12.0, -0.009),\n",
       " (13.0, -0.009),\n",
       " (14.0, -0.016),\n",
       " (16.0, -0.001),\n",
       " (16.0, -0.001),\n",
       " (16.0, -0.0),\n",
       " (2.0, 0.005),\n",
       " (2.0, 0.005),\n",
       " (4.0, 0.017),\n",
       " (4.0, 0.024),\n",
       " (5.0, 0.042),\n",
       " (6.0, 0.029),\n",
       " (8.0, 0.038),\n",
       " (8.0, 0.05),\n",
       " (8.0, 0.052),\n",
       " (10.0, 0.055),\n",
       " (13.0, -0.059),\n",
       " (13.0, -0.058),\n",
       " (14.0, -0.039),\n",
       " (15.0, -0.05),\n",
       " (1.0, -0.027),\n",
       " (1.0, -0.025),\n",
       " (1.0, -0.022),\n",
       " (3.0, -0.021),\n",
       " (5.0, -0.001),\n",
       " (5.0, 0.004),\n",
       " (6.0, 0.012),\n",
       " (7.0, 0.001),\n",
       " (9.0, 0.037),\n",
       " (9.0, 0.04),\n",
       " (9.0, 0.041),\n",
       " (11.0, 0.034),\n",
       " (13.0, 0.041),\n",
       " (13.0, 0.048),\n",
       " (15.0, -0.067),\n",
       " (15.0, 0.047),\n",
       " (2.0, -0.068),\n",
       " (2.0, -0.064),\n",
       " (2.0, -0.062),\n",
       " (4.0, -0.065),\n",
       " (4.0, -0.063),\n",
       " (4.0, 0.064),\n",
       " (6.0, -0.03),\n",
       " (6.0, -0.029),\n",
       " (8.0, 0.03),\n",
       " (10.0, -0.02),\n",
       " (12.0, 0.002),\n",
       " (14.0, -0.04),\n",
       " (14.0, -0.036),\n",
       " (16.0, 0.016),\n",
       " (16.0, 0.032),\n",
       " (2.0, -0.033),\n",
       " (4.0, 0.025),\n",
       " (6.0, -0.024),\n",
       " (6.0, -0.019),\n",
       " (8.0, 0.037),\n",
       " (10.0, -0.015),\n",
       " (12.0, -0.001),\n",
       " (12.0, 0.005),\n",
       " (14.0, -0.035),\n",
       " (14.0, -0.021),\n",
       " (16.0, 0.011),\n",
       " (16.0, 0.018),\n",
       " (2.0, -0.036),\n",
       " (4.0, 0.035),\n",
       " (6.0, -0.01),\n",
       " (6.0, -0.009),\n",
       " (9.0, -0.042),\n",
       " (10.0, 0.001),\n",
       " (12.0, 0.042),\n",
       " (14.0, -0.007),\n",
       " (15.0, 0.011),\n",
       " (16.0, 0.033),\n",
       " (2.0, -0.036),\n",
       " (4.0, 0.03),\n",
       " (6.0, -0.027),\n",
       " (6.0, -0.015),\n",
       " (7.0, 0.024),\n",
       " (9.0, -0.035),\n",
       " (9.0, 0.032),\n",
       " (10.0, -0.012),\n",
       " (11.0, 0.025),\n",
       " (12.0, 0.037),\n",
       " (14.0, -0.022),\n",
       " (14.0, -0.009),\n",
       " (15.0, 0.022),\n",
       " (16.0, 0.036),\n",
       " (2.0, -0.015),\n",
       " (4.0, 0.031),\n",
       " (6.0, -0.022),\n",
       " (7.0, -0.012),\n",
       " (8.0, 0.008),\n",
       " (11.0, -0.006),\n",
       " (13.0, 0.043),\n",
       " (15.0, -0.015),\n",
       " (15.0, -0.014),\n",
       " (2.0, -0.026),\n",
       " (3.0, 0.002),\n",
       " (6.0, -0.035),\n",
       " (6.0, -0.028),\n",
       " (7.0, -0.005),\n",
       " (7.0, 0.005),\n",
       " (10.0, -0.038),\n",
       " (10.0, -0.03),\n",
       " (11.0, 0.022),\n",
       " (14.0, -0.001),\n",
       " (16.0, -0.041),\n",
       " (2.0, -0.005),\n",
       " (3.0, 0.02),\n",
       " (3.0, 0.035),\n",
       " (6.0, -0.011),\n",
       " (6.0, 0.022),\n",
       " (7.0, 0.038),\n",
       " (10.0, -0.008),\n",
       " (11.0, 0.04),\n",
       " (14.0, 0.004),\n",
       " (15.0, 0.03),\n",
       " (6.0, -0.037),\n",
       " (6.0, 0.011),\n",
       " (7.0, 0.011),\n",
       " (8.0, 0.039),\n",
       " (10.0, -0.039),\n",
       " (11.0, -0.013),\n",
       " (15.0, -0.026),\n",
       " (16.0, 0.003),\n",
       " (1.0, 0.018),\n",
       " (3.0, -0.033),\n",
       " (5.0, 0.023),\n",
       " (5.0, 0.024),\n",
       " (5.0, 0.039),\n",
       " (1.0, -0.21),\n",
       " (1.0, -0.208),\n",
       " (2.0, 0.082),\n",
       " (4.0, 0.003),\n",
       " (4.0, 0.005),\n",
       " (7.0, -0.028),\n",
       " (8.0, 0.055),\n",
       " (8.0, 0.056),\n",
       " (11.0, 0.053),\n",
       " (13.0, -0.03),\n",
       " (13.0, -0.028),\n",
       " (16.0, -0.034),\n",
       " (1.0, 0.055),\n",
       " (1.0, 0.061),\n",
       " (4.0, 0.08),\n",
       " (6.0, -0.001),\n",
       " (6.0, -0.0),\n",
       " (9.0, -0.013),\n",
       " (10.0, 0.082),\n",
       " (10.0, 0.083),\n",
       " (13.0, 0.064),\n",
       " (15.0, -0.021),\n",
       " (15.0, -0.02),\n",
       " (1.0, 0.083),\n",
       " (1.0, 0.083),\n",
       " (3.0, -0.006),\n",
       " (3.0, -0.006),\n",
       " (6.0, -0.037),\n",
       " (7.0, 0.05),\n",
       " (7.0, 0.055),\n",
       " (10.0, 0.002),\n",
       " (12.0, -0.084),\n",
       " (12.0, -0.084),\n",
       " (14.0, 0.074),\n",
       " (16.0, -0.013),\n",
       " (16.0, -0.012),\n",
       " (3.0, -0.049),\n",
       " (4.0, -0.002),\n",
       " (4.0, 0.0),\n",
       " (5.0, 0.045),\n",
       " (5.0, 0.049),\n",
       " (7.0, -0.068),\n",
       " (7.0, -0.04),\n",
       " (8.0, -0.004),\n",
       " (8.0, 0.003),\n",
       " (9.0, 0.055),\n",
       " (9.0, 0.057),\n",
       " (11.0, -0.067),\n",
       " (11.0, -0.066),\n",
       " (12.0, -0.005),\n",
       " (12.0, -0.003),\n",
       " (15.0, -0.078),\n",
       " (15.0, -0.072),\n",
       " (16.0, 0.008),\n",
       " (16.0, 0.016),\n",
       " (3.0, -0.07),\n",
       " (3.0, -0.07),\n",
       " (5.0, -0.026),\n",
       " (1.0, -0.309),\n",
       " (1.0, -0.297),\n",
       " (1.0, 0.019),\n",
       " (1.0, 0.023),\n",
       " (3.0, 0.025),\n",
       " (3.0, 0.026),\n",
       " (5.0, 0.042),\n",
       " (6.0, -0.067),\n",
       " (7.0, 0.044),\n",
       " (7.0, 0.051),\n",
       " (9.0, 0.049),\n",
       " (9.0, 0.051),\n",
       " (11.0, 0.062),\n",
       " (11.0, 0.063),\n",
       " (13.0, 0.063),\n",
       " (13.0, 0.068),\n",
       " (15.0, 0.065),\n",
       " (15.0, 0.07),\n",
       " (2.0, -0.052),\n",
       " (2.0, -0.047),\n",
       " (4.0, -0.061),\n",
       " (4.0, -0.056),\n",
       " (5.0, 0.007),\n",
       " (6.0, -0.031),\n",
       " (8.0, -0.016),\n",
       " (8.0, -0.005),\n",
       " (10.0, 0.0),\n",
       " (10.0, 0.011),\n",
       " (12.0, 0.003),\n",
       " (12.0, 0.007),\n",
       " (14.0, 0.037),\n",
       " (14.0, 0.038),\n",
       " (16.0, 0.038),\n",
       " (16.0, 0.04),\n",
       " (2.0, 0.05),\n",
       " (2.0, 0.052),\n",
       " (4.0, 0.066),\n",
       " (5.0, -0.072),\n",
       " (6.0, 0.07),\n",
       " (7.0, -0.07),\n",
       " (8.0, -0.018),\n",
       " (8.0, -0.013),\n",
       " (9.0, -0.056),\n",
       " (9.0, -0.052),\n",
       " (11.0, -0.032),\n",
       " (11.0, -0.027),\n",
       " (13.0, -0.033),\n",
       " (13.0, -0.03),\n",
       " (14.0, 0.032),\n",
       " (14.0, 0.034),\n",
       " (15.0, -0.005),\n",
       " (15.0, 0.008),\n",
       " (3.0, -0.037),\n",
       " (5.0, -0.009),\n",
       " (9.0, -0.028),\n",
       " (13.0, -0.027),\n",
       " (3.0, -0.021),\n",
       " (7.0, -0.025),\n",
       " (9.0, 0.007),\n",
       " (9.0, 0.012),\n",
       " (11.0, -0.037),\n",
       " (11.0, -0.035),\n",
       " (13.0, 0.025),\n",
       " (13.0, 0.041),\n",
       " (1.0, 0.044),\n",
       " (3.0, 0.012),\n",
       " (4.0, 0.026),\n",
       " (7.0, 0.005),\n",
       " (9.0, 0.054),\n",
       " (9.0, 0.054),\n",
       " (11.0, -0.003),\n",
       " (11.0, 0.003),\n",
       " (13.0, 0.04),\n",
       " (13.0, 0.04),\n",
       " (15.0, -0.012),\n",
       " (1.0, 0.047),\n",
       " (3.0, -0.005),\n",
       " (4.0, 0.026),\n",
       " (7.0, -0.007),\n",
       " (9.0, 0.033),\n",
       " (9.0, 0.057),\n",
       " (11.0, -0.028),\n",
       " (11.0, -0.016),\n",
       " (14.0, -0.052),\n",
       " (15.0, -0.035),\n",
       " ...]"
      ]
     },
     "execution_count": 5,
     "metadata": {},
     "output_type": "execute_result"
    }
   ],
   "source": [
    "# check 'beat outliers':\n",
    "# beat_outliers\n",
    "devs"
   ]
  },
  {
   "cell_type": "code",
   "execution_count": 17,
   "metadata": {
    "collapsed": false
   },
   "outputs": [],
   "source": [
    "ids_one = [item for item in devs if item[0] == 1]\n",
    "ids_two = [item for item in devs if item[0] == 2]\n",
    "ids_three = [item for item in devs if item[0] == 3]\n",
    "ids_four = [item for item in devs if item[0] == 4]\n",
    "ids_five = [item for item in devs if item[0] == 5]\n",
    "ids_six = [item for item in devs if item[0] == 6]\n",
    "ids_seven = [item for item in devs if item[0] == 7]\n",
    "ids_eight = [item for item in devs if item[0] == 8]\n",
    "ids_nine = [item for item in devs if item[0] == 9]\n",
    "ids_ten = [item for item in devs if item[0] == 10]\n",
    "ids_eleven = [item for item in devs if item[0] == 11]\n",
    "ids_twelve = [item for item in devs if item[0] == 12]\n",
    "ids_thirteen = [item for item in devs if item[0] == 13]\n",
    "ids_fourteen = [item for item in devs if item[0] == 14]\n",
    "ids_fifteen = [item for item in devs if item[0] == 15]\n",
    "ids_sixteen = [item for item in devs if item[0] == 16]\n",
    "\n",
    "c_one = Counter(elem[1] for elem in ids_one)\n",
    "c_two = Counter(elem[1] for elem in ids_two)\n",
    "c_three = Counter(elem[1] for elem in ids_three)\n",
    "c_four = Counter(elem[1] for elem in ids_four)\n",
    "c_five = Counter(elem[1] for elem in ids_five)\n",
    "c_six = Counter(elem[1] for elem in ids_six)\n",
    "c_seven = Counter(elem[1] for elem in ids_seven)\n",
    "c_eight = Counter(elem[1] for elem in ids_eight)\n",
    "c_nine = Counter(elem[1] for elem in ids_nine)\n",
    "c_ten = Counter(elem[1] for elem in ids_ten)\n",
    "c_eleven = Counter(elem[1] for elem in ids_eleven)\n",
    "c_twelve = Counter(elem[1] for elem in ids_twelve)\n",
    "c_thirteen = Counter(elem[1] for elem in ids_thirteen)\n",
    "c_fourteen = Counter(elem[1] for elem in ids_fourteen)\n",
    "c_fifteen = Counter(elem[1] for elem in ids_fifteen)\n",
    "c_sixteen = Counter(elem[1] for elem in ids_sixteen)"
   ]
  },
  {
   "cell_type": "markdown",
   "metadata": {},
   "source": [
    "Here I plotted my results with a bar diagram, both in Pandas.DataFrame and matplotlib....the problem however was that the x-axis displays discrete and not continuous values."
   ]
  },
  {
   "cell_type": "code",
   "execution_count": 9,
   "metadata": {
    "collapsed": false
   },
   "outputs": [
    {
     "data": {
      "text/plain": [
       "<matplotlib.axes._subplots.AxesSubplot at 0xa99a540c>"
      ]
     },
     "execution_count": 9,
     "metadata": {},
     "output_type": "execute_result"
    },
    {
     "data": {
      "image/png": "[encoded data removed]",
      "text/plain": [
       "<matplotlib.figure.Figure at 0xa999ed6c>"
      ]
     },
     "metadata": {},
     "output_type": "display_data"
    }
   ],
   "source": [
    "df = pd.DataFrame.from_dict(c_one, orient = 'index')\n",
    "df.plot(kind = 'bar')"
   ]
  },
  {
   "cell_type": "code",
   "execution_count": 60,
   "metadata": {
    "collapsed": false,
    "scrolled": true
   },
   "outputs": [
    {
     "data": {
      "image/png": "[encoded data removed]",
      "text/plain": [
       "<matplotlib.figure.Figure at 0x9425834c>"
      ]
     },
     "metadata": {},
     "output_type": "display_data"
    }
   ],
   "source": [
    "labels, values = zip(*c_one.items())\n",
    "indexes = np.arange(len(labels))\n",
    "\n",
    "width = 0.5\n",
    "fig = plt.bar(indexes,values, width)\n",
    "plt.xticks(indexes + width *0.5, labels)\n",
    "\n",
    "plt.show()"
   ]
  },
  {
   "cell_type": "markdown",
   "metadata": {},
   "source": [
    "So I went back to pyplot's histogram function, where the art seems to lie in choosing the right bin size. To compare, the first ideal sixteenth with different bin sizes: "
   ]
  },
  {
   "cell_type": "code",
   "execution_count": 61,
   "metadata": {
    "collapsed": false,
    "scrolled": true
   },
   "outputs": [
    {
     "data": {
      "text/plain": [
       "(array([  2.,   0.,   5.,   3.,   3.,   2.,   3.,  37.,  44.,  26.]),\n",
       " array([-0.442 , -0.3893, -0.3366, -0.2839, -0.2312, -0.1785, -0.1258,\n",
       "        -0.0731, -0.0204,  0.0323,  0.085 ]),\n",
       " <a list of 10 Patch objects>)"
      ]
     },
     "execution_count": 61,
     "metadata": {},
     "output_type": "execute_result"
    },
    {
     "data": {
      "image/png": "[encoded data removed]",
      "text/plain": [
       "<matplotlib.figure.Figure at 0x923e34ac>"
      ]
     },
     "metadata": {},
     "output_type": "display_data"
    }
   ],
   "source": [
    "plt.hist(c_one.keys(), 10)"
   ]
  },
  {
   "cell_type": "code",
   "execution_count": 62,
   "metadata": {
    "collapsed": false
   },
   "outputs": [
    {
     "data": {
      "text/plain": [
       "(array([  2.,   0.,   0.,   0.,   3.,   2.,   1.,   2.,   2.,   1.,   2.,\n",
       "          0.,   0.,   3.,  14.,  23.,  20.,  24.,  18.,   8.]),\n",
       " array([-0.442  , -0.41565, -0.3893 , -0.36295, -0.3366 , -0.31025,\n",
       "        -0.2839 , -0.25755, -0.2312 , -0.20485, -0.1785 , -0.15215,\n",
       "        -0.1258 , -0.09945, -0.0731 , -0.04675, -0.0204 ,  0.00595,\n",
       "         0.0323 ,  0.05865,  0.085  ]),\n",
       " <a list of 20 Patch objects>)"
      ]
     },
     "execution_count": 62,
     "metadata": {},
     "output_type": "execute_result"
    },
    {
     "data": {
      "image/png": "[encoded data removed]",
      "text/plain": [
       "<matplotlib.figure.Figure at 0x8ff6112c>"
      ]
     },
     "metadata": {},
     "output_type": "display_data"
    }
   ],
   "source": [
    "plt.hist(c_one.keys(), 20)"
   ]
  },
  {
   "cell_type": "code",
   "execution_count": 63,
   "metadata": {
    "collapsed": false
   },
   "outputs": [
    {
     "data": {
      "text/plain": [
       "(array([  2.,   0.,   0.,   0.,   0.,   0.,   0.,   0.,   0.,   0.,   1.,\n",
       "          1.,   2.,   1.,   0.,   1.,   0.,   0.,   2.,   0.,   0.,   0.,\n",
       "          2.,   1.,   0.,   0.,   2.,   0.,   0.,   0.,   0.,   0.,   1.,\n",
       "          0.,   2.,   5.,   7.,   5.,  11.,   9.,   9.,   6.,  10.,   9.,\n",
       "         10.,   8.,   8.,   5.,   3.,   2.]),\n",
       " array([-0.442  , -0.43146, -0.42092, -0.41038, -0.39984, -0.3893 ,\n",
       "        -0.37876, -0.36822, -0.35768, -0.34714, -0.3366 , -0.32606,\n",
       "        -0.31552, -0.30498, -0.29444, -0.2839 , -0.27336, -0.26282,\n",
       "        -0.25228, -0.24174, -0.2312 , -0.22066, -0.21012, -0.19958,\n",
       "        -0.18904, -0.1785 , -0.16796, -0.15742, -0.14688, -0.13634,\n",
       "        -0.1258 , -0.11526, -0.10472, -0.09418, -0.08364, -0.0731 ,\n",
       "        -0.06256, -0.05202, -0.04148, -0.03094, -0.0204 , -0.00986,\n",
       "         0.00068,  0.01122,  0.02176,  0.0323 ,  0.04284,  0.05338,\n",
       "         0.06392,  0.07446,  0.085  ]),\n",
       " <a list of 50 Patch objects>)"
      ]
     },
     "execution_count": 63,
     "metadata": {},
     "output_type": "execute_result"
    },
    {
     "data": {
      "image/png": "[encoded data removed]",
      "text/plain": [
       "<matplotlib.figure.Figure at 0x8d1de48c>"
      ]
     },
     "metadata": {},
     "output_type": "display_data"
    }
   ],
   "source": [
    "plt.hist(c_one.keys(), 50)"
   ]
  },
  {
   "cell_type": "code",
   "execution_count": 64,
   "metadata": {
    "collapsed": false,
    "scrolled": false
   },
   "outputs": [
    {
     "data": {
      "text/plain": [
       "(array([ 1.,  1.,  0.,  0.,  0.,  0.,  0.,  0.,  0.,  0.,  0.,  0.,  0.,\n",
       "         0.,  0.,  0.,  0.,  0.,  0.,  0.,  0.,  0.,  0.,  0.,  0.,  0.,\n",
       "         0.,  0.,  0.,  0.,  0.,  0.,  0.,  0.,  0.,  0.,  0.,  0.,  0.,\n",
       "         0.,  1.,  0.,  0.,  0.,  0.,  0.,  0.,  1.,  1.,  0.,  1.,  0.,\n",
       "         0.,  0.,  0.,  1.,  0.,  0.,  0.,  0.,  0.,  1.,  0.,  0.,  0.,\n",
       "         0.,  0.,  0.,  0.,  0.,  0.,  0.,  1.,  1.,  0.,  0.,  0.,  0.,\n",
       "         0.,  0.,  0.,  0.,  0.,  0.,  0.,  0.,  0.,  0.,  2.,  0.,  0.,\n",
       "         0.,  0.,  0.,  1.,  0.,  0.,  0.,  0.,  0.,  0.,  0.,  0.,  0.,\n",
       "         1.,  0.,  1.,  0.,  0.,  0.,  0.,  0.,  0.,  0.,  0.,  0.,  0.,\n",
       "         0.,  0.,  0.,  0.,  0.,  0.,  0.,  0.,  0.,  0.,  0.,  0.,  0.,\n",
       "         1.,  0.,  0.,  0.,  0.,  0.,  1.,  0.,  0.,  1.,  1.,  0.,  1.,\n",
       "         3.,  2.,  2.,  2.,  1.,  1.,  1.,  1.,  2.,  3.,  2.,  3.,  3.,\n",
       "         1.,  3.,  2.,  3.,  3.,  2.,  1.,  3.,  2.,  1.,  2.,  1.,  3.,\n",
       "         2.,  3.,  2.,  1.,  3.,  3.,  2.,  3.,  2.,  2.,  3.,  2.,  2.,\n",
       "         2.,  2.,  2.,  2.,  2.,  2.,  2.,  0.,  1.,  2.,  1.,  0.,  0.,\n",
       "         2.,  0.,  0.,  0.,  2.]),\n",
       " array([-0.442   , -0.439365, -0.43673 , -0.434095, -0.43146 , -0.428825,\n",
       "        -0.42619 , -0.423555, -0.42092 , -0.418285, -0.41565 , -0.413015,\n",
       "        -0.41038 , -0.407745, -0.40511 , -0.402475, -0.39984 , -0.397205,\n",
       "        -0.39457 , -0.391935, -0.3893  , -0.386665, -0.38403 , -0.381395,\n",
       "        -0.37876 , -0.376125, -0.37349 , -0.370855, -0.36822 , -0.365585,\n",
       "        -0.36295 , -0.360315, -0.35768 , -0.355045, -0.35241 , -0.349775,\n",
       "        -0.34714 , -0.344505, -0.34187 , -0.339235, -0.3366  , -0.333965,\n",
       "        -0.33133 , -0.328695, -0.32606 , -0.323425, -0.32079 , -0.318155,\n",
       "        -0.31552 , -0.312885, -0.31025 , -0.307615, -0.30498 , -0.302345,\n",
       "        -0.29971 , -0.297075, -0.29444 , -0.291805, -0.28917 , -0.286535,\n",
       "        -0.2839  , -0.281265, -0.27863 , -0.275995, -0.27336 , -0.270725,\n",
       "        -0.26809 , -0.265455, -0.26282 , -0.260185, -0.25755 , -0.254915,\n",
       "        -0.25228 , -0.249645, -0.24701 , -0.244375, -0.24174 , -0.239105,\n",
       "        -0.23647 , -0.233835, -0.2312  , -0.228565, -0.22593 , -0.223295,\n",
       "        -0.22066 , -0.218025, -0.21539 , -0.212755, -0.21012 , -0.207485,\n",
       "        -0.20485 , -0.202215, -0.19958 , -0.196945, -0.19431 , -0.191675,\n",
       "        -0.18904 , -0.186405, -0.18377 , -0.181135, -0.1785  , -0.175865,\n",
       "        -0.17323 , -0.170595, -0.16796 , -0.165325, -0.16269 , -0.160055,\n",
       "        -0.15742 , -0.154785, -0.15215 , -0.149515, -0.14688 , -0.144245,\n",
       "        -0.14161 , -0.138975, -0.13634 , -0.133705, -0.13107 , -0.128435,\n",
       "        -0.1258  , -0.123165, -0.12053 , -0.117895, -0.11526 , -0.112625,\n",
       "        -0.10999 , -0.107355, -0.10472 , -0.102085, -0.09945 , -0.096815,\n",
       "        -0.09418 , -0.091545, -0.08891 , -0.086275, -0.08364 , -0.081005,\n",
       "        -0.07837 , -0.075735, -0.0731  , -0.070465, -0.06783 , -0.065195,\n",
       "        -0.06256 , -0.059925, -0.05729 , -0.054655, -0.05202 , -0.049385,\n",
       "        -0.04675 , -0.044115, -0.04148 , -0.038845, -0.03621 , -0.033575,\n",
       "        -0.03094 , -0.028305, -0.02567 , -0.023035, -0.0204  , -0.017765,\n",
       "        -0.01513 , -0.012495, -0.00986 , -0.007225, -0.00459 , -0.001955,\n",
       "         0.00068 ,  0.003315,  0.00595 ,  0.008585,  0.01122 ,  0.013855,\n",
       "         0.01649 ,  0.019125,  0.02176 ,  0.024395,  0.02703 ,  0.029665,\n",
       "         0.0323  ,  0.034935,  0.03757 ,  0.040205,  0.04284 ,  0.045475,\n",
       "         0.04811 ,  0.050745,  0.05338 ,  0.056015,  0.05865 ,  0.061285,\n",
       "         0.06392 ,  0.066555,  0.06919 ,  0.071825,  0.07446 ,  0.077095,\n",
       "         0.07973 ,  0.082365,  0.085   ]),\n",
       " <a list of 200 Patch objects>)"
      ]
     },
     "execution_count": 64,
     "metadata": {},
     "output_type": "execute_result"
    },
    {
     "data": {
      "image/png": "[encoded data removed]",
      "text/plain": [
       "<matplotlib.figure.Figure at 0x8d136e0c>"
      ]
     },
     "metadata": {},
     "output_type": "display_data"
    }
   ],
   "source": [
    "plt.hist(c_one.keys(), 200)"
   ]
  },
  {
   "cell_type": "markdown",
   "metadata": {},
   "source": [
    "All histograms of the first bar in one graph. "
   ]
  },
  {
   "cell_type": "code",
   "execution_count": 65,
   "metadata": {
    "collapsed": false,
    "scrolled": false
   },
   "outputs": [
    {
     "data": {
      "image/png": "[encoded data removed]",
      "text/plain": [
       "<matplotlib.figure.Figure at 0x8c662aac>"
      ]
     },
     "metadata": {},
     "output_type": "display_data"
    }
   ],
   "source": [
    "plt.axvline(x=0, color='y')\n",
    "plt.xlim(-0.45, 0.5)\n",
    "plt.xlabel('time in seconds')\n",
    "plt.ylabel('counts')\n",
    "plt.title('ideal sixteenth #1')\n",
    "plt.hist(c_one.keys(), 25);\n",
    "plt.hist(c_two.keys(), 25);\n",
    "plt.hist(c_three.keys(), 25);\n",
    "plt.hist(c_four.keys(), 25);"
   ]
  },
  {
   "cell_type": "markdown",
   "metadata": {},
   "source": [
    "4x4 histogram: with outliers"
   ]
  },
  {
   "cell_type": "code",
   "execution_count": 66,
   "metadata": {
    "collapsed": false,
    "scrolled": true
   },
   "outputs": [
    {
     "data": {
      "image/png": "[encoded data removed]",
      "text/plain": [
       "<matplotlib.figure.Figure at 0x8c63acec>"
      ]
     },
     "metadata": {},
     "output_type": "display_data"
    }
   ],
   "source": [
    "plot_histo_outlier(c_one.keys(), c_two.keys(), c_three.keys(), c_four.keys())"
   ]
  },
  {
   "cell_type": "markdown",
   "metadata": {},
   "source": [
    "4x4 histogram: without outliers"
   ]
  },
  {
   "cell_type": "code",
   "execution_count": 67,
   "metadata": {
    "collapsed": false,
    "scrolled": true
   },
   "outputs": [
    {
     "data": {
      "image/png": "[encoded data removed]",
      "text/plain": [
       "<matplotlib.figure.Figure at 0x9b84fb6c>"
      ]
     },
     "metadata": {},
     "output_type": "display_data"
    }
   ],
   "source": [
    "plot_histogramm1(c_one.keys(), c_two.keys(), c_three.keys(), c_four.keys())"
   ]
  },
  {
   "cell_type": "code",
   "execution_count": 68,
   "metadata": {
    "collapsed": false
   },
   "outputs": [
    {
     "data": {
      "image/png": "[encoded data removed]",
      "text/plain": [
       "<matplotlib.figure.Figure at 0x8eac5c0c>"
      ]
     },
     "metadata": {},
     "output_type": "display_data"
    }
   ],
   "source": [
    "plot_histogramm2(c_five.keys(), c_six.keys(), c_seven.keys(), c_eight.keys())"
   ]
  },
  {
   "cell_type": "code",
   "execution_count": 69,
   "metadata": {
    "collapsed": false
   },
   "outputs": [
    {
     "data": {
      "image/png": "[encoded data removed]",
      "text/plain": [
       "<matplotlib.figure.Figure at 0x8eac202c>"
      ]
     },
     "metadata": {},
     "output_type": "display_data"
    }
   ],
   "source": [
    "plot_histogramm3(c_nine.keys(), c_ten.keys(), c_eleven.keys(), c_twelve.keys())"
   ]
  },
  {
   "cell_type": "code",
   "execution_count": 70,
   "metadata": {
    "collapsed": false,
    "scrolled": true
   },
   "outputs": [
    {
     "data": {
      "image/png": "[encoded data removed]",
      "text/plain": [
       "<matplotlib.figure.Figure at 0x86a54f8c>"
      ]
     },
     "metadata": {},
     "output_type": "display_data"
    }
   ],
   "source": [
    "plot_histogramm4(c_thirteen.keys(), c_fourteen.keys(), c_fifteen.keys(), c_sixteen.keys())"
   ]
  },
  {
   "cell_type": "markdown",
   "metadata": {},
   "source": [
    "Changes:\n",
    "- outliers for beat 1 (fills) need to be edited out"
   ]
  },
  {
   "cell_type": "code",
   "execution_count": 71,
   "metadata": {
    "collapsed": false
   },
   "outputs": [
    {
     "data": {
      "image/png": "[encoded data removed]",
      "text/plain": [
       "<matplotlib.figure.Figure at 0xa7b9b6cc>"
      ]
     },
     "metadata": {},
     "output_type": "display_data"
    }
   ],
   "source": [
    "plot_boxplot1(c_one.keys(), c_two.keys(), c_three.keys(), c_four.keys())  "
   ]
  },
  {
   "cell_type": "code",
   "execution_count": 72,
   "metadata": {
    "collapsed": false,
    "scrolled": true
   },
   "outputs": [
    {
     "data": {
      "image/png": "[encoded data removed]",
      "text/plain": [
       "<matplotlib.figure.Figure at 0x9a47be2c>"
      ]
     },
     "metadata": {},
     "output_type": "display_data"
    }
   ],
   "source": [
    "plot_boxplot2(c_five.keys(), c_six.keys(),c_seven.keys(), c_eight.keys())"
   ]
  },
  {
   "cell_type": "code",
   "execution_count": 73,
   "metadata": {
    "collapsed": false,
    "scrolled": true
   },
   "outputs": [
    {
     "data": {
      "image/png": "[encoded data removed]",
      "text/plain": [
       "<matplotlib.figure.Figure at 0xa960732c>"
      ]
     },
     "metadata": {},
     "output_type": "display_data"
    }
   ],
   "source": [
    "plot_boxplot3(c_nine.keys(), c_ten.keys(),c_eleven.keys(), c_twelve.keys())"
   ]
  },
  {
   "cell_type": "code",
   "execution_count": 74,
   "metadata": {
    "collapsed": false
   },
   "outputs": [
    {
     "data": {
      "image/png": "[encoded data removed]",
      "text/plain": [
       "<matplotlib.figure.Figure at 0xa5c57d6c>"
      ]
     },
     "metadata": {},
     "output_type": "display_data"
    }
   ],
   "source": [
    "plot_boxplot4(c_thirteen.keys(), c_fourteen.keys(),c_fifteen.keys(), c_sixteen.keys())"
   ]
  },
  {
   "cell_type": "markdown",
   "metadata": {},
   "source": [
    "The ENST-drums onsets were manually annotated and labelled, depending on the instrument of the drum kit. I stick with the grouping the authors described in the paper about ENST-drums:\n",
    "\n",
    "#1: bass drum (bd)\n",
    "#2: brush sweep(sweep), sticks hit together (sticks), snare drum (sd), rim shot (rs), cross stick (cs)\n",
    "#3: hi-hat (closed) (chh), hi-hat (open) (ohh), cowbell (cb), other cymbals (c)\n",
    "#4: low-mid tom (lmt)\n",
    "#5: mid tom (mt), mid tom hit on the rim (mtr), low tom (lt), low tom hit on the rim (ltr), lowest tom (lft)\n",
    "#6: ride cymbal (rc), chinese ride cymbal (ch), crash cymbal (cr), splash cymbal (spl)"
   ]
  },
  {
   "cell_type": "code",
   "execution_count": 75,
   "metadata": {
    "collapsed": true
   },
   "outputs": [],
   "source": [
    "# shell-scripting to separate data:\n",
    "# for f in *.csv; do grep -E 'sweep|sticks|sd|rs|cs' $f > test.$f; done "
   ]
  },
  {
   "cell_type": "markdown",
   "metadata": {},
   "source": [
    "# #1 BASS DRUM "
   ]
  },
  {
   "cell_type": "code",
   "execution_count": 76,
   "metadata": {
    "collapsed": false
   },
   "outputs": [],
   "source": [
    "#ids_one, ids_two, ids_three, ids_four, ids_five, ids_six, ids_seven, ids_eight, ids_nine, ids_ten, ids_eleven, ids_twelve, ids_thirteen, ids_fourteen, ids_fifteen, ids_sixteen = []\n",
    "beats = []\n",
    "devs = []\n",
    "#c_one,c_two,c_three,c_four,c_five,c_six,c_seven,c_eight,c_nine,c_ten,c_eleven,c_twelve,c_thirteen,c_fourteen,c_fifteen,c_sixteen = []"
   ]
  },
  {
   "cell_type": "code",
   "execution_count": 77,
   "metadata": {
    "collapsed": false,
    "scrolled": true
   },
   "outputs": [
    {
     "name": "stderr",
     "output_type": "stream",
     "text": [
      "/usr/local/lib/python2.7/dist-packages/ipykernel/__main__.py:31: UserWarning: genfromtxt: Empty input file: \"onsets/bass/onset.bass.061_phrase_salsa_simple_medium_sticks.csv\"\n",
      "/usr/local/lib/python2.7/dist-packages/ipykernel/__main__.py:31: UserWarning: genfromtxt: Empty input file: \"onsets/bass/onset.bass.048_phrase_afro_simple_slow_mallets.csv\"\n",
      "/usr/local/lib/python2.7/dist-packages/ipykernel/__main__.py:31: UserWarning: genfromtxt: Empty input file: \"onsets/bass/onset.bass.062_phrase_salsa_simple_fast_sticks.csv\"\n",
      "/usr/local/lib/python2.7/dist-packages/ipykernel/__main__.py:31: UserWarning: genfromtxt: Empty input file: \"onsets/bass/onset.bass.085_phrase_waltz_simple_medium_brushes.csv\"\n",
      "/usr/local/lib/python2.7/dist-packages/ipykernel/__main__.py:31: UserWarning: genfromtxt: Empty input file: \"onsets/bass/onset.bass.084_phrase_waltz_simple_slow_brushes.csv\"\n",
      "/usr/local/lib/python2.7/dist-packages/ipykernel/__main__.py:31: UserWarning: genfromtxt: Empty input file: \"onsets/bass/onset.bass.060_phrase_salsa_simple_slow_sticks.csv\"\n",
      "/usr/local/lib/python2.7/dist-packages/ipykernel/__main__.py:31: UserWarning: genfromtxt: Empty input file: \"onsets/bass/onset.bass.049_phrase_afro_simple_medium_mallets.csv\"\n"
     ]
    }
   ],
   "source": [
    "for file in os.listdir('sounds/'):\n",
    "\n",
    "    beats=[]\n",
    "    idealSixteenths = []\n",
    "    init_beat = []\n",
    "    end_beat = []\n",
    "    \n",
    "    if '.wav' not in file: continue\n",
    "    filename = file\n",
    "    load_file = 'sounds/' + filename  \n",
    "    \n",
    "    # load audio \n",
    "    loader = es.MonoLoader(filename=load_file)\n",
    "    audio = loader()\n",
    "\n",
    "    # find beats\n",
    "    bt = es.BeatTrackerMultiFeature()\n",
    "    beats, _ = bt(audio)\n",
    "\n",
    "    # create metrical grid:\n",
    "    a = len(beats) - 1\n",
    "    init_beat = beats[0]\n",
    "    end_beat = beats[a]\n",
    "\n",
    "    # equally spaced lines\n",
    "    ids_range = len(beats)*4\n",
    "    idealSixteenths = np.linspace(init_beat, end_beat, ids_range)\n",
    "\n",
    "    # read annotated onsets from csv-file\n",
    "    read_onset = 'onsets/bass/' + 'onset.bass.' + filename[:-3] + 'csv'\n",
    "    onsets = np.genfromtxt(read_onset)\n",
    "\n",
    "    # find nearest neighbour\n",
    "\n",
    "    for onset in onsets:\n",
    "        devs.append(nearestNeighbour(onset, idealSixteenths))\n",
    "\n",
    "    # print devs\n",
    "    \n",
    "    # see amount of onsets per ideal sixteenths:\n",
    "    # Counter(elem[0] for elem in devs)"
   ]
  },
  {
   "cell_type": "code",
   "execution_count": 78,
   "metadata": {
    "collapsed": true
   },
   "outputs": [],
   "source": [
    "# note down which song doesn't have input!!"
   ]
  },
  {
   "cell_type": "code",
   "execution_count": 79,
   "metadata": {
    "collapsed": true
   },
   "outputs": [],
   "source": [
    "# do I have to declare them as empty arrays before running the code again?\n",
    "\n",
    "ids_one = [item for item in devs if item[0] == 1]\n",
    "ids_two = [item for item in devs if item[0] == 2]\n",
    "ids_three = [item for item in devs if item[0] == 3]\n",
    "ids_four = [item for item in devs if item[0] == 4]\n",
    "ids_five = [item for item in devs if item[0] == 5]\n",
    "ids_six = [item for item in devs if item[0] == 6]\n",
    "ids_seven = [item for item in devs if item[0] == 7]\n",
    "ids_eight = [item for item in devs if item[0] == 8]\n",
    "ids_nine = [item for item in devs if item[0] == 9]\n",
    "ids_ten = [item for item in devs if item[0] == 10]\n",
    "ids_eleven = [item for item in devs if item[0] == 11]\n",
    "ids_twelve = [item for item in devs if item[0] == 12]\n",
    "ids_thirteen = [item for item in devs if item[0] == 13]\n",
    "ids_fourteen = [item for item in devs if item[0] == 14]\n",
    "ids_fifteen = [item for item in devs if item[0] == 15]\n",
    "ids_sixteen = [item for item in devs if item[0] == 16]\n",
    "\n",
    "c_one = Counter(elem[1] for elem in ids_one)\n",
    "c_two = Counter(elem[1] for elem in ids_two)\n",
    "c_three = Counter(elem[1] for elem in ids_three)\n",
    "c_four = Counter(elem[1] for elem in ids_four)\n",
    "c_five = Counter(elem[1] for elem in ids_five)\n",
    "c_six = Counter(elem[1] for elem in ids_six)\n",
    "c_seven = Counter(elem[1] for elem in ids_seven)\n",
    "c_eight = Counter(elem[1] for elem in ids_eight)\n",
    "c_nine = Counter(elem[1] for elem in ids_nine)\n",
    "c_ten = Counter(elem[1] for elem in ids_ten)\n",
    "c_eleven = Counter(elem[1] for elem in ids_eleven)\n",
    "c_twelve = Counter(elem[1] for elem in ids_twelve)\n",
    "c_thirteen = Counter(elem[1] for elem in ids_thirteen)\n",
    "c_fourteen = Counter(elem[1] for elem in ids_fourteen)\n",
    "c_fifteen = Counter(elem[1] for elem in ids_fifteen)\n",
    "c_sixteen = Counter(elem[1] for elem in ids_sixteen)"
   ]
  },
  {
   "cell_type": "code",
   "execution_count": 80,
   "metadata": {
    "collapsed": false
   },
   "outputs": [
    {
     "data": {
      "image/png": "[encoded data removed]",
      "text/plain": [
       "<matplotlib.figure.Figure at 0x9b70094c>"
      ]
     },
     "metadata": {},
     "output_type": "display_data"
    }
   ],
   "source": [
    "plot_histogramm1(c_one.keys(), c_two.keys(), c_three.keys(), c_four.keys())"
   ]
  },
  {
   "cell_type": "code",
   "execution_count": 81,
   "metadata": {
    "collapsed": false
   },
   "outputs": [
    {
     "data": {
      "image/png": "[encoded data removed]",
      "text/plain": [
       "<matplotlib.figure.Figure at 0x992259cc>"
      ]
     },
     "metadata": {},
     "output_type": "display_data"
    }
   ],
   "source": [
    "plot_histogramm2(c_five.keys(), c_six.keys(), c_seven.keys(), c_eight.keys())"
   ]
  },
  {
   "cell_type": "code",
   "execution_count": 82,
   "metadata": {
    "collapsed": false
   },
   "outputs": [
    {
     "data": {
      "image/png": "[encoded data removed]",
      "text/plain": [
       "<matplotlib.figure.Figure at 0x9783414c>"
      ]
     },
     "metadata": {},
     "output_type": "display_data"
    }
   ],
   "source": [
    "plot_histogramm3(c_nine.keys(), c_ten.keys(), c_eleven.keys(), c_twelve.keys())"
   ]
  },
  {
   "cell_type": "code",
   "execution_count": 83,
   "metadata": {
    "collapsed": false
   },
   "outputs": [
    {
     "data": {
      "image/png": "[encoded data removed]",
      "text/plain": [
       "<matplotlib.figure.Figure at 0x86a457ac>"
      ]
     },
     "metadata": {},
     "output_type": "display_data"
    }
   ],
   "source": [
    "plot_histogramm4(c_thirteen.keys(), c_fourteen.keys(), c_fifteen.keys(), c_sixteen.keys())"
   ]
  },
  {
   "cell_type": "code",
   "execution_count": 84,
   "metadata": {
    "collapsed": false
   },
   "outputs": [
    {
     "data": {
      "image/png": "[encoded data removed]",
      "text/plain": [
       "<matplotlib.figure.Figure at 0x802e94ec>"
      ]
     },
     "metadata": {},
     "output_type": "display_data"
    }
   ],
   "source": [
    "plot_boxplot1(c_one.keys(), c_two.keys(), c_three.keys(), c_four.keys())  "
   ]
  },
  {
   "cell_type": "code",
   "execution_count": 85,
   "metadata": {
    "collapsed": false
   },
   "outputs": [
    {
     "data": {
      "image/png": "[encoded data removed]",
      "text/plain": [
       "<matplotlib.figure.Figure at 0xa931934c>"
      ]
     },
     "metadata": {},
     "output_type": "display_data"
    }
   ],
   "source": [
    "plot_boxplot2(c_five.keys(), c_six.keys(),c_seven.keys(), c_eight.keys())"
   ]
  },
  {
   "cell_type": "code",
   "execution_count": 86,
   "metadata": {
    "collapsed": false
   },
   "outputs": [
    {
     "data": {
      "image/png": "[encoded data removed]",
      "text/plain": [
       "<matplotlib.figure.Figure at 0xa9319b4c>"
      ]
     },
     "metadata": {},
     "output_type": "display_data"
    }
   ],
   "source": [
    "plot_boxplot3(c_nine.keys(), c_ten.keys(),c_eleven.keys(), c_twelve.keys())"
   ]
  },
  {
   "cell_type": "code",
   "execution_count": 87,
   "metadata": {
    "collapsed": false,
    "scrolled": false
   },
   "outputs": [
    {
     "data": {
      "image/png": "[encoded data removed]",
      "text/plain": [
       "<matplotlib.figure.Figure at 0x92408ccc>"
      ]
     },
     "metadata": {},
     "output_type": "display_data"
    }
   ],
   "source": [
    "plot_boxplot4(c_thirteen.keys(), c_fourteen.keys(),c_fifteen.keys(), c_sixteen.keys()) "
   ]
  },
  {
   "cell_type": "markdown",
   "metadata": {},
   "source": [
    "# #2: SNARE (and co.)"
   ]
  },
  {
   "cell_type": "code",
   "execution_count": 88,
   "metadata": {
    "collapsed": true
   },
   "outputs": [],
   "source": [
    "# for f in *.csv; do grep -E 'sweep|sticks|sd|rs|cs' $f > test.$f; done \n",
    "# for f in *.csv; do cut -d' ' -f2 --complement $f > onset.$f; done"
   ]
  },
  {
   "cell_type": "code",
   "execution_count": 89,
   "metadata": {
    "collapsed": false
   },
   "outputs": [
    {
     "name": "stderr",
     "output_type": "stream",
     "text": [
      "/usr/local/lib/python2.7/dist-packages/ipykernel/__main__.py:33: UserWarning: genfromtxt: Empty input file: \"onsets/snare/onset.snare.048_phrase_afro_simple_slow_mallets.csv\"\n"
     ]
    }
   ],
   "source": [
    "beat = []\n",
    "devs = []\n",
    "for file in os.listdir('sounds/'):\n",
    "\n",
    "    beats=[]\n",
    "    idealSixteenths = []\n",
    "    init_beat = []\n",
    "    end_beat = []\n",
    "    \n",
    "    if '.wav' not in file: continue\n",
    "    filename = file\n",
    "    load_file = 'sounds/' + filename  \n",
    "    \n",
    "    # load audio \n",
    "    loader = es.MonoLoader(filename=load_file)\n",
    "    audio = loader()\n",
    "\n",
    "    # find beats\n",
    "    bt = es.BeatTrackerMultiFeature()\n",
    "    beats, _ = bt(audio)\n",
    "\n",
    "    # create metrical grid:\n",
    "    a = len(beats) - 1\n",
    "    init_beat = beats[0]\n",
    "    end_beat = beats[a]\n",
    "\n",
    "    # equally spaced lines\n",
    "    ids_range = len(beats)*4\n",
    "    idealSixteenths = np.linspace(init_beat, end_beat, ids_range)\n",
    "\n",
    "    # read annotated onsets from csv-file\n",
    "    read_onset = 'onsets/snare/' + 'onset.snare.' + filename[:-3] + 'csv'\n",
    "    onsets = np.genfromtxt(read_onset)\n",
    "\n",
    "    # find nearest neighbour\n",
    "\n",
    "    for onset in onsets:\n",
    "        devs.append(nearestNeighbour(onset, idealSixteenths))\n",
    "\n",
    "    # print devs\n",
    "    \n",
    "    # see amount of onsets per ideal sixteenths:\n",
    "    # Counter(elem[0] for elem in devs)"
   ]
  },
  {
   "cell_type": "code",
   "execution_count": 90,
   "metadata": {
    "collapsed": true
   },
   "outputs": [],
   "source": [
    "ids_one = [item for item in devs if item[0] == 1]\n",
    "ids_two = [item for item in devs if item[0] == 2]\n",
    "ids_three = [item for item in devs if item[0] == 3]\n",
    "ids_four = [item for item in devs if item[0] == 4]\n",
    "ids_five = [item for item in devs if item[0] == 5]\n",
    "ids_six = [item for item in devs if item[0] == 6]\n",
    "ids_seven = [item for item in devs if item[0] == 7]\n",
    "ids_eight = [item for item in devs if item[0] == 8]\n",
    "ids_nine = [item for item in devs if item[0] == 9]\n",
    "ids_ten = [item for item in devs if item[0] == 10]\n",
    "ids_eleven = [item for item in devs if item[0] == 11]\n",
    "ids_twelve = [item for item in devs if item[0] == 12]\n",
    "ids_thirteen = [item for item in devs if item[0] == 13]\n",
    "ids_fourteen = [item for item in devs if item[0] == 14]\n",
    "ids_fifteen = [item for item in devs if item[0] == 15]\n",
    "ids_sixteen = [item for item in devs if item[0] == 16]\n",
    "\n",
    "c_one = Counter(elem[1] for elem in ids_one)\n",
    "c_two = Counter(elem[1] for elem in ids_two)\n",
    "c_three = Counter(elem[1] for elem in ids_three)\n",
    "c_four = Counter(elem[1] for elem in ids_four)\n",
    "c_five = Counter(elem[1] for elem in ids_five)\n",
    "c_six = Counter(elem[1] for elem in ids_six)\n",
    "c_seven = Counter(elem[1] for elem in ids_seven)\n",
    "c_eight = Counter(elem[1] for elem in ids_eight)\n",
    "c_nine = Counter(elem[1] for elem in ids_nine)\n",
    "c_ten = Counter(elem[1] for elem in ids_ten)\n",
    "c_eleven = Counter(elem[1] for elem in ids_eleven)\n",
    "c_twelve = Counter(elem[1] for elem in ids_twelve)\n",
    "c_thirteen = Counter(elem[1] for elem in ids_thirteen)\n",
    "c_fourteen = Counter(elem[1] for elem in ids_fourteen)\n",
    "c_fifteen = Counter(elem[1] for elem in ids_fifteen)\n",
    "c_sixteen = Counter(elem[1] for elem in ids_sixteen)"
   ]
  },
  {
   "cell_type": "code",
   "execution_count": 91,
   "metadata": {
    "collapsed": false
   },
   "outputs": [
    {
     "data": {
      "image/png": "[encoded data removed]",
      "text/plain": [
       "<matplotlib.figure.Figure at 0xa04185ac>"
      ]
     },
     "metadata": {},
     "output_type": "display_data"
    }
   ],
   "source": [
    "plot_histogramm1(c_one.keys(), c_two.keys(), c_three.keys(), c_four.keys())"
   ]
  },
  {
   "cell_type": "code",
   "execution_count": 92,
   "metadata": {
    "collapsed": false
   },
   "outputs": [
    {
     "data": {
      "image/png": "[encoded data removed]",
      "text/plain": [
       "<matplotlib.figure.Figure at 0xa04184ac>"
      ]
     },
     "metadata": {},
     "output_type": "display_data"
    }
   ],
   "source": [
    "plot_histogramm2(c_five.keys(), c_six.keys(), c_seven.keys(), c_eight.keys())"
   ]
  },
  {
   "cell_type": "code",
   "execution_count": 93,
   "metadata": {
    "collapsed": false
   },
   "outputs": [
    {
     "data": {
      "image/png": "[encoded data removed]",
      "text/plain": [
       "<matplotlib.figure.Figure at 0xa985786c>"
      ]
     },
     "metadata": {},
     "output_type": "display_data"
    }
   ],
   "source": [
    "plot_histogramm3(c_nine.keys(), c_ten.keys(), c_eleven.keys(), c_twelve.keys())"
   ]
  },
  {
   "cell_type": "code",
   "execution_count": 94,
   "metadata": {
    "collapsed": false
   },
   "outputs": [
    {
     "data": {
      "image/png": "[encoded data removed]",
      "text/plain": [
       "<matplotlib.figure.Figure at 0xa4ef06ac>"
      ]
     },
     "metadata": {},
     "output_type": "display_data"
    }
   ],
   "source": [
    "plot_histogramm4(c_thirteen.keys(), c_fourteen.keys(), c_fifteen.keys(), c_sixteen.keys())"
   ]
  },
  {
   "cell_type": "code",
   "execution_count": 95,
   "metadata": {
    "collapsed": false
   },
   "outputs": [
    {
     "data": {
      "image/png": "[encoded data removed]",
      "text/plain": [
       "<matplotlib.figure.Figure at 0x8c5c58ac>"
      ]
     },
     "metadata": {},
     "output_type": "display_data"
    }
   ],
   "source": [
    "plot_boxplot1(c_one.keys(), c_two.keys(), c_three.keys(), c_four.keys())  "
   ]
  },
  {
   "cell_type": "code",
   "execution_count": 96,
   "metadata": {
    "collapsed": false
   },
   "outputs": [
    {
     "data": {
      "image/png": "[encoded data removed]",
      "text/plain": [
       "<matplotlib.figure.Figure at 0x9180160c>"
      ]
     },
     "metadata": {},
     "output_type": "display_data"
    }
   ],
   "source": [
    "plot_boxplot2(c_five.keys(), c_six.keys(),c_seven.keys(), c_eight.keys())"
   ]
  },
  {
   "cell_type": "code",
   "execution_count": 97,
   "metadata": {
    "collapsed": false
   },
   "outputs": [
    {
     "data": {
      "image/png": "[encoded data removed]",
      "text/plain": [
       "<matplotlib.figure.Figure at 0x95ec330c>"
      ]
     },
     "metadata": {},
     "output_type": "display_data"
    }
   ],
   "source": [
    "plot_boxplot3(c_nine.keys(), c_ten.keys(),c_eleven.keys(), c_twelve.keys())"
   ]
  },
  {
   "cell_type": "code",
   "execution_count": 98,
   "metadata": {
    "collapsed": false
   },
   "outputs": [
    {
     "data": {
      "image/png": "[encoded data removed]",
      "text/plain": [
       "<matplotlib.figure.Figure at 0x99f2abec>"
      ]
     },
     "metadata": {},
     "output_type": "display_data"
    }
   ],
   "source": [
    "plot_boxplot4(c_thirteen.keys(), c_fourteen.keys(),c_fifteen.keys(), c_sixteen.keys())"
   ]
  },
  {
   "cell_type": "markdown",
   "metadata": {},
   "source": [
    "# #3: HI-HATS AND CYMBALS\n",
    "#3: hi-hat (closed) (chh), hi-hat (open) (ohh), cowbell (cb), other cymbals (c)"
   ]
  },
  {
   "cell_type": "code",
   "execution_count": 99,
   "metadata": {
    "collapsed": false
   },
   "outputs": [
    {
     "name": "stdout",
     "output_type": "stream",
     "text": [
      "The song is probably in 4/4\n",
      "The song is probably in 4/4\n",
      "The song is probably in 4/4\n",
      "The song is probably in 4/4\n",
      "The song is probably in 4/4\n",
      "The song is probably in 4/4\n",
      "The song is probably in 4/4\n"
     ]
    },
    {
     "name": "stderr",
     "output_type": "stream",
     "text": [
      "/usr/local/lib/python2.7/dist-packages/ipykernel/__main__.py:64: UserWarning: genfromtxt: Empty input file: \"onsets/hihat/onset.hihat.048_phrase_afro_simple_slow_mallets.csv\"\n"
     ]
    },
    {
     "name": "stdout",
     "output_type": "stream",
     "text": [
      "The song is probably in 4/4\n",
      "The song is probably in 4/4\n"
     ]
    },
    {
     "name": "stderr",
     "output_type": "stream",
     "text": [
      "/usr/local/lib/python2.7/dist-packages/ipykernel/__main__.py:64: UserWarning: genfromtxt: Empty input file: \"onsets/hihat/onset.hihat.085_phrase_waltz_simple_medium_brushes.csv\"\n"
     ]
    },
    {
     "name": "stdout",
     "output_type": "stream",
     "text": [
      "The song is probably in 4/4\n",
      "The song is probably in 4/4\n",
      "The song is probably in 4/4\n"
     ]
    },
    {
     "name": "stderr",
     "output_type": "stream",
     "text": [
      "/usr/local/lib/python2.7/dist-packages/ipykernel/__main__.py:64: UserWarning: genfromtxt: Empty input file: \"onsets/hihat/onset.hihat.084_phrase_waltz_simple_slow_brushes.csv\"\n"
     ]
    },
    {
     "name": "stdout",
     "output_type": "stream",
     "text": [
      "The song is probably in 4/4\n"
     ]
    },
    {
     "name": "stderr",
     "output_type": "stream",
     "text": [
      "/usr/local/lib/python2.7/dist-packages/ipykernel/__main__.py:64: UserWarning: genfromtxt: Empty input file: \"onsets/hihat/onset.hihat.050_phrase_afro_simple_fast_mallets.csv\"\n",
      "/usr/local/lib/python2.7/dist-packages/ipykernel/__main__.py:64: UserWarning: genfromtxt: Empty input file: \"onsets/hihat/onset.hihat.049_phrase_afro_simple_medium_mallets.csv\"\n"
     ]
    },
    {
     "name": "stdout",
     "output_type": "stream",
     "text": [
      "The song is probably in 4/4\n"
     ]
    }
   ],
   "source": [
    "beat = []\n",
    "devs = []\n",
    "for file in os.listdir('sounds/'):\n",
    "\n",
    "    beats=[]\n",
    "    idealSixteenths = []\n",
    "    init_beat = []\n",
    "    end_beat = []\n",
    "    \n",
    "    if '.wav' not in file: continue\n",
    "    filename = file\n",
    "    load_file = 'sounds/' + filename  \n",
    "    \n",
    "    # load audio \n",
    "    loader = es.MonoLoader(filename=load_file)\n",
    "    audio = loader()\n",
    "\n",
    "    # find beats\n",
    "    bt = es.BeatTrackerMultiFeature()\n",
    "    beats, _ = bt(audio)\n",
    "\n",
    "    # check if beats are %4\n",
    "    if len(beats)%4 == 0:\n",
    "        print 'The song is probably in 4/4'\n",
    "    else:\n",
    "        beat_outliers.append(file)\n",
    "    # save graph to specific folder\n",
    "\n",
    "    # create metrical grid:\n",
    "    a = len(beats) - 1\n",
    "    init_beat = beats[0]\n",
    "    end_beat = beats[a]\n",
    "\n",
    "    # equally spaced lines\n",
    "    ids_range = len(beats)*4\n",
    "    idealSixteenths = np.linspace(init_beat, end_beat, ids_range)\n",
    "\n",
    "    #file = filename\n",
    "    #filejpg = 'plots/'+'plot.' + file[:-3] + 'png'\n",
    "\n",
    "    fs=44100\n",
    "    t = np.arange(len(audio))/float(fs)\n",
    "    plt.plot(t, audio)\n",
    "    for loc in idealSixteenths:\n",
    "        plt.axvline(x=loc, color='y')\n",
    "    #for i in range(len(beats)):\n",
    "    #    plt.axvline(idealSixteenths[4*i], color = 'r')\n",
    "\n",
    "    title = file[:-4] \n",
    "    plt.title(title)\n",
    "    plt.xlabel('time')\n",
    "    plt.ylabel('audio')\n",
    "    # plt.savefig(filejpg)\n",
    "    plt.close()\n",
    "\n",
    "    # save metrical grid to file\n",
    "    # should be used for later analysis of the instruments\n",
    "\n",
    "    #filetxt = 'metrical_grid/'+'metgrid.' + file[:-3] + 'txt' #or csv?\n",
    "    #np.savetxt(filetxt, idealSixteenths)\n",
    "\n",
    "    # read annotated onsets from csv-file\n",
    "    read_onset = 'onsets/hihat/' + 'onset.hihat.' + filename[:-3] + 'csv'\n",
    "    onsets = np.genfromtxt(read_onset)\n",
    "\n",
    "    # find nearest neighbour\n",
    "\n",
    "    for onset in onsets:\n",
    "        devs.append(nearestNeighbour(onset, idealSixteenths))\n",
    "\n",
    "    # print devs\n",
    "    \n",
    "    # see amount of onsets per ideal sixteenths:\n",
    "    # Counter(elem[0] for elem in devs)"
   ]
  },
  {
   "cell_type": "code",
   "execution_count": 100,
   "metadata": {
    "collapsed": true
   },
   "outputs": [],
   "source": [
    "ids_one = [item for item in devs if item[0] == 1]\n",
    "ids_two = [item for item in devs if item[0] == 2]\n",
    "ids_three = [item for item in devs if item[0] == 3]\n",
    "ids_four = [item for item in devs if item[0] == 4]\n",
    "ids_five = [item for item in devs if item[0] == 5]\n",
    "ids_six = [item for item in devs if item[0] == 6]\n",
    "ids_seven = [item for item in devs if item[0] == 7]\n",
    "ids_eight = [item for item in devs if item[0] == 8]\n",
    "ids_nine = [item for item in devs if item[0] == 9]\n",
    "ids_ten = [item for item in devs if item[0] == 10]\n",
    "ids_eleven = [item for item in devs if item[0] == 11]\n",
    "ids_twelve = [item for item in devs if item[0] == 12]\n",
    "ids_thirteen = [item for item in devs if item[0] == 13]\n",
    "ids_fourteen = [item for item in devs if item[0] == 14]\n",
    "ids_fifteen = [item for item in devs if item[0] == 15]\n",
    "ids_sixteen = [item for item in devs if item[0] == 16]\n",
    "\n",
    "c_one = Counter(elem[1] for elem in ids_one)\n",
    "c_two = Counter(elem[1] for elem in ids_two)\n",
    "c_three = Counter(elem[1] for elem in ids_three)\n",
    "c_four = Counter(elem[1] for elem in ids_four)\n",
    "c_five = Counter(elem[1] for elem in ids_five)\n",
    "c_six = Counter(elem[1] for elem in ids_six)\n",
    "c_seven = Counter(elem[1] for elem in ids_seven)\n",
    "c_eight = Counter(elem[1] for elem in ids_eight)\n",
    "c_nine = Counter(elem[1] for elem in ids_nine)\n",
    "c_ten = Counter(elem[1] for elem in ids_ten)\n",
    "c_eleven = Counter(elem[1] for elem in ids_eleven)\n",
    "c_twelve = Counter(elem[1] for elem in ids_twelve)\n",
    "c_thirteen = Counter(elem[1] for elem in ids_thirteen)\n",
    "c_fourteen = Counter(elem[1] for elem in ids_fourteen)\n",
    "c_fifteen = Counter(elem[1] for elem in ids_fifteen)\n",
    "c_sixteen = Counter(elem[1] for elem in ids_sixteen)"
   ]
  },
  {
   "cell_type": "code",
   "execution_count": 101,
   "metadata": {
    "collapsed": false
   },
   "outputs": [
    {
     "data": {
      "image/png": "[encoded data removed]",
      "text/plain": [
       "<matplotlib.figure.Figure at 0x95ed28ac>"
      ]
     },
     "metadata": {},
     "output_type": "display_data"
    }
   ],
   "source": [
    "plot_histogramm1(c_one.keys(), c_two.keys(), c_three.keys(), c_four.keys())"
   ]
  },
  {
   "cell_type": "code",
   "execution_count": 102,
   "metadata": {
    "collapsed": false
   },
   "outputs": [
    {
     "data": {
      "image/png": "[encoded data removed]",
      "text/plain": [
       "<matplotlib.figure.Figure at 0xa744bf4c>"
      ]
     },
     "metadata": {},
     "output_type": "display_data"
    }
   ],
   "source": [
    "plot_histogramm2(c_five.keys(), c_six.keys(), c_seven.keys(), c_eight.keys())"
   ]
  },
  {
   "cell_type": "code",
   "execution_count": 103,
   "metadata": {
    "collapsed": false
   },
   "outputs": [
    {
     "data": {
      "image/png": "[encoded data removed]",
      "text/plain": [
       "<matplotlib.figure.Figure at 0xa21b54ac>"
      ]
     },
     "metadata": {},
     "output_type": "display_data"
    }
   ],
   "source": [
    "plot_histogramm3(c_nine.keys(), c_ten.keys(), c_eleven.keys(), c_twelve.keys())"
   ]
  },
  {
   "cell_type": "code",
   "execution_count": 104,
   "metadata": {
    "collapsed": false
   },
   "outputs": [
    {
     "data": {
      "image/png": "[encoded data removed]",
      "text/plain": [
       "<matplotlib.figure.Figure at 0xa05993cc>"
      ]
     },
     "metadata": {},
     "output_type": "display_data"
    }
   ],
   "source": [
    "plot_histogramm4(c_thirteen.keys(), c_fourteen.keys(), c_fifteen.keys(), c_sixteen.keys())"
   ]
  },
  {
   "cell_type": "code",
   "execution_count": 105,
   "metadata": {
    "collapsed": false
   },
   "outputs": [
    {
     "data": {
      "image/png": "[encoded data removed]",
      "text/plain": [
       "<matplotlib.figure.Figure at 0x9cf5844c>"
      ]
     },
     "metadata": {},
     "output_type": "display_data"
    }
   ],
   "source": [
    "plot_boxplot1(c_one.keys(), c_two.keys(), c_three.keys(), c_four.keys())  "
   ]
  },
  {
   "cell_type": "code",
   "execution_count": 106,
   "metadata": {
    "collapsed": false
   },
   "outputs": [
    {
     "data": {
      "image/png": "[encoded data removed]",
      "text/plain": [
       "<matplotlib.figure.Figure at 0x9e6af3cc>"
      ]
     },
     "metadata": {},
     "output_type": "display_data"
    }
   ],
   "source": [
    "plot_boxplot2(c_five.keys(), c_six.keys(),c_seven.keys(), c_eight.keys())"
   ]
  },
  {
   "cell_type": "code",
   "execution_count": 107,
   "metadata": {
    "collapsed": false
   },
   "outputs": [
    {
     "data": {
      "image/png": "[encoded data removed]",
      "text/plain": [
       "<matplotlib.figure.Figure at 0x9cec228c>"
      ]
     },
     "metadata": {},
     "output_type": "display_data"
    }
   ],
   "source": [
    "plot_boxplot3(c_nine.keys(), c_ten.keys(),c_eleven.keys(), c_twelve.keys())"
   ]
  },
  {
   "cell_type": "code",
   "execution_count": 108,
   "metadata": {
    "collapsed": false
   },
   "outputs": [
    {
     "data": {
      "image/png": "[encoded data removed]",
      "text/plain": [
       "<matplotlib.figure.Figure at 0xa005144c>"
      ]
     },
     "metadata": {},
     "output_type": "display_data"
    }
   ],
   "source": [
    "plot_boxplot4(c_thirteen.keys(), c_fourteen.keys(),c_fifteen.keys(), c_sixteen.keys())"
   ]
  },
  {
   "cell_type": "markdown",
   "metadata": {},
   "source": [
    "# #4: Low-mid tom (lmt)"
   ]
  },
  {
   "cell_type": "code",
   "execution_count": 132,
   "metadata": {
    "collapsed": false
   },
   "outputs": [
    {
     "name": "stderr",
     "output_type": "stream",
     "text": [
      "/usr/local/lib/python2.7/dist-packages/ipykernel/__main__.py:64: UserWarning: genfromtxt: Empty input file: \"onsets/lmt/onset.lmt.083_phrase_reggae-ska_complex_fast_sticks.csv\"\n",
      "/usr/local/lib/python2.7/dist-packages/ipykernel/__main__.py:64: UserWarning: genfromtxt: Empty input file: \"onsets/lmt/onset.lmt.070_phrase_shuffle-blues_complex_medium_brushes.csv\"\n"
     ]
    },
    {
     "name": "stdout",
     "output_type": "stream",
     "text": [
      "The song is probably in 4/4\n"
     ]
    },
    {
     "name": "stderr",
     "output_type": "stream",
     "text": [
      "/usr/local/lib/python2.7/dist-packages/ipykernel/__main__.py:64: UserWarning: genfromtxt: Empty input file: \"onsets/lmt/onset.lmt.063_phrase_salsa_complex_slow_sticks.csv\"\n",
      "/usr/local/lib/python2.7/dist-packages/ipykernel/__main__.py:64: UserWarning: genfromtxt: Empty input file: \"onsets/lmt/onset.lmt.071_phrase_shuffle-blues_complex_fast_brushes.csv\"\n",
      "/usr/local/lib/python2.7/dist-packages/ipykernel/__main__.py:64: UserWarning: genfromtxt: Empty input file: \"onsets/lmt/onset.lmt.052_phrase_afro_complex_medium_mallets.csv\"\n",
      "/usr/local/lib/python2.7/dist-packages/ipykernel/__main__.py:64: UserWarning: genfromtxt: Empty input file: \"onsets/lmt/onset.lmt.040_phrase_disco_complex_medium_sticks.csv\"\n",
      "/usr/local/lib/python2.7/dist-packages/ipykernel/__main__.py:64: UserWarning: genfromtxt: Empty input file: \"onsets/lmt/onset.lmt.037_phrase_disco_simple_medium_sticks.csv\"\n"
     ]
    },
    {
     "name": "stdout",
     "output_type": "stream",
     "text": [
      "The song is probably in 4/4\n"
     ]
    },
    {
     "name": "stderr",
     "output_type": "stream",
     "text": [
      "/usr/local/lib/python2.7/dist-packages/ipykernel/__main__.py:64: UserWarning: genfromtxt: Empty input file: \"onsets/lmt/onset.lmt.082_phrase_reggae_complex_medium_sticks.csv\"\n",
      "/usr/local/lib/python2.7/dist-packages/ipykernel/__main__.py:64: UserWarning: genfromtxt: Empty input file: \"onsets/lmt/onset.lmt.066_phrase_shuffle-blues_simple_slow_brushes.csv\"\n"
     ]
    },
    {
     "name": "stdout",
     "output_type": "stream",
     "text": [
      "The song is probably in 4/4\n"
     ]
    },
    {
     "name": "stderr",
     "output_type": "stream",
     "text": [
      "/usr/local/lib/python2.7/dist-packages/ipykernel/__main__.py:64: UserWarning: genfromtxt: Empty input file: \"onsets/lmt/onset.lmt.086_phrase_waltz_simple_fast_brushes.csv\"\n",
      "/usr/local/lib/python2.7/dist-packages/ipykernel/__main__.py:64: UserWarning: genfromtxt: Empty input file: \"onsets/lmt/onset.lmt.081_phrase_reggae_complex_slow_sticks.csv\"\n"
     ]
    },
    {
     "name": "stdout",
     "output_type": "stream",
     "text": [
      "The song is probably in 4/4\n"
     ]
    },
    {
     "name": "stderr",
     "output_type": "stream",
     "text": [
      "/usr/local/lib/python2.7/dist-packages/ipykernel/__main__.py:64: UserWarning: genfromtxt: Empty input file: \"onsets/lmt/onset.lmt.036_phrase_disco_simple_slow_sticks.csv\"\n",
      "/usr/local/lib/python2.7/dist-packages/ipykernel/__main__.py:64: UserWarning: genfromtxt: Empty input file: \"onsets/lmt/onset.lmt.089_phrase_waltz_complex_fast_brushes.csv\"\n",
      "/usr/local/lib/python2.7/dist-packages/ipykernel/__main__.py:64: UserWarning: genfromtxt: Empty input file: \"onsets/lmt/onset.lmt.065_phrase_salsa_complex_fast_sticks.csv\"\n",
      "/usr/local/lib/python2.7/dist-packages/ipykernel/__main__.py:64: UserWarning: genfromtxt: Empty input file: \"onsets/lmt/onset.lmt.053_phrase_afro_complex_fast_mallets.csv\"\n",
      "/usr/local/lib/python2.7/dist-packages/ipykernel/__main__.py:64: UserWarning: genfromtxt: Empty input file: \"onsets/lmt/onset.lmt.069_phrase_shuffle-blues_complex_slow_brushes.csv\"\n"
     ]
    },
    {
     "name": "stdout",
     "output_type": "stream",
     "text": [
      "The song is probably in 4/4\n"
     ]
    },
    {
     "name": "stderr",
     "output_type": "stream",
     "text": [
      "/usr/local/lib/python2.7/dist-packages/ipykernel/__main__.py:64: UserWarning: genfromtxt: Empty input file: \"onsets/lmt/onset.lmt.047_phrase_rock_complex_fast_rods.csv\"\n",
      "/usr/local/lib/python2.7/dist-packages/ipykernel/__main__.py:64: UserWarning: genfromtxt: Empty input file: \"onsets/lmt/onset.lmt.044_phrase_rock_simple_fast_rods.csv\"\n",
      "/usr/local/lib/python2.7/dist-packages/ipykernel/__main__.py:64: UserWarning: genfromtxt: Empty input file: \"onsets/lmt/onset.lmt.038_phrase_disco_simple_fast_sticks.csv\"\n"
     ]
    },
    {
     "name": "stdout",
     "output_type": "stream",
     "text": [
      "The song is probably in 4/4\n"
     ]
    },
    {
     "name": "stderr",
     "output_type": "stream",
     "text": [
      "/usr/local/lib/python2.7/dist-packages/ipykernel/__main__.py:64: UserWarning: genfromtxt: Empty input file: \"onsets/lmt/onset.lmt.061_phrase_salsa_simple_medium_sticks.csv\"\n",
      "/usr/local/lib/python2.7/dist-packages/ipykernel/__main__.py:64: UserWarning: genfromtxt: Empty input file: \"onsets/lmt/onset.lmt.079_phrase_reggae_simple_medium_sticks.csv\"\n",
      "/usr/local/lib/python2.7/dist-packages/ipykernel/__main__.py:64: UserWarning: genfromtxt: Empty input file: \"onsets/lmt/onset.lmt.068_phrase_shuffle-blues_simple_fast_brushes.csv\"\n"
     ]
    },
    {
     "name": "stdout",
     "output_type": "stream",
     "text": [
      "The song is probably in 4/4\n"
     ]
    },
    {
     "name": "stderr",
     "output_type": "stream",
     "text": [
      "/usr/local/lib/python2.7/dist-packages/ipykernel/__main__.py:64: UserWarning: genfromtxt: Empty input file: \"onsets/lmt/onset.lmt.051_phrase_afro_complex_slow_mallets.csv\"\n",
      "/usr/local/lib/python2.7/dist-packages/ipykernel/__main__.py:64: UserWarning: genfromtxt: Empty input file: \"onsets/lmt/onset.lmt.048_phrase_afro_simple_slow_mallets.csv\"\n"
     ]
    },
    {
     "name": "stdout",
     "output_type": "stream",
     "text": [
      "The song is probably in 4/4\n"
     ]
    },
    {
     "name": "stderr",
     "output_type": "stream",
     "text": [
      "/usr/local/lib/python2.7/dist-packages/ipykernel/__main__.py:64: UserWarning: genfromtxt: Empty input file: \"onsets/lmt/onset.lmt.041_phrase_disco_complex_fast_sticks.csv\"\n",
      "/usr/local/lib/python2.7/dist-packages/ipykernel/__main__.py:64: UserWarning: genfromtxt: Empty input file: \"onsets/lmt/onset.lmt.062_phrase_salsa_simple_fast_sticks.csv\"\n",
      "/usr/local/lib/python2.7/dist-packages/ipykernel/__main__.py:64: UserWarning: genfromtxt: Empty input file: \"onsets/lmt/onset.lmt.087_phrase_waltz_complex_slow_brushes.csv\"\n",
      "/usr/local/lib/python2.7/dist-packages/ipykernel/__main__.py:64: UserWarning: genfromtxt: Empty input file: \"onsets/lmt/onset.lmt.043_phrase_rock_simple_medium_rods.csv\"\n"
     ]
    },
    {
     "name": "stdout",
     "output_type": "stream",
     "text": [
      "The song is probably in 4/4\n"
     ]
    },
    {
     "name": "stderr",
     "output_type": "stream",
     "text": [
      "/usr/local/lib/python2.7/dist-packages/ipykernel/__main__.py:64: UserWarning: genfromtxt: Empty input file: \"onsets/lmt/onset.lmt.085_phrase_waltz_simple_medium_brushes.csv\"\n"
     ]
    },
    {
     "name": "stdout",
     "output_type": "stream",
     "text": [
      "The song is probably in 4/4\n"
     ]
    },
    {
     "name": "stderr",
     "output_type": "stream",
     "text": [
      "/usr/local/lib/python2.7/dist-packages/ipykernel/__main__.py:64: UserWarning: genfromtxt: Empty input file: \"onsets/lmt/onset.lmt.039_phrase_disco_complex_slow_sticks.csv\"\n"
     ]
    },
    {
     "name": "stdout",
     "output_type": "stream",
     "text": [
      "The song is probably in 4/4\n"
     ]
    },
    {
     "name": "stderr",
     "output_type": "stream",
     "text": [
      "/usr/local/lib/python2.7/dist-packages/ipykernel/__main__.py:64: UserWarning: genfromtxt: Empty input file: \"onsets/lmt/onset.lmt.042_phrase_rock_simple_slow_rods.csv\"\n",
      "/usr/local/lib/python2.7/dist-packages/ipykernel/__main__.py:64: UserWarning: genfromtxt: Empty input file: \"onsets/lmt/onset.lmt.078_phrase_reggae_simple_slow_sticks.csv\"\n",
      "/usr/local/lib/python2.7/dist-packages/ipykernel/__main__.py:64: UserWarning: genfromtxt: Empty input file: \"onsets/lmt/onset.lmt.064_phrase_salsa_complex_medium_sticks.csv\"\n"
     ]
    },
    {
     "name": "stdout",
     "output_type": "stream",
     "text": [
      "The song is probably in 4/4\n"
     ]
    },
    {
     "name": "stderr",
     "output_type": "stream",
     "text": [
      "/usr/local/lib/python2.7/dist-packages/ipykernel/__main__.py:64: UserWarning: genfromtxt: Empty input file: \"onsets/lmt/onset.lmt.084_phrase_waltz_simple_slow_brushes.csv\"\n",
      "/usr/local/lib/python2.7/dist-packages/ipykernel/__main__.py:64: UserWarning: genfromtxt: Empty input file: \"onsets/lmt/onset.lmt.060_phrase_salsa_simple_slow_sticks.csv\"\n",
      "/usr/local/lib/python2.7/dist-packages/ipykernel/__main__.py:64: UserWarning: genfromtxt: Empty input file: \"onsets/lmt/onset.lmt.067_phrase_shuffle-blues_simple_medium_brushes.csv\"\n"
     ]
    },
    {
     "name": "stdout",
     "output_type": "stream",
     "text": [
      "The song is probably in 4/4\n"
     ]
    },
    {
     "name": "stderr",
     "output_type": "stream",
     "text": [
      "/usr/local/lib/python2.7/dist-packages/ipykernel/__main__.py:64: UserWarning: genfromtxt: Empty input file: \"onsets/lmt/onset.lmt.050_phrase_afro_simple_fast_mallets.csv\"\n",
      "/usr/local/lib/python2.7/dist-packages/ipykernel/__main__.py:64: UserWarning: genfromtxt: Empty input file: \"onsets/lmt/onset.lmt.049_phrase_afro_simple_medium_mallets.csv\"\n"
     ]
    },
    {
     "name": "stdout",
     "output_type": "stream",
     "text": [
      "The song is probably in 4/4\n"
     ]
    },
    {
     "name": "stderr",
     "output_type": "stream",
     "text": [
      "/usr/local/lib/python2.7/dist-packages/ipykernel/__main__.py:64: UserWarning: genfromtxt: Empty input file: \"onsets/lmt/onset.lmt.088_phrase_waltz_complex_medium_brushes.csv\"\n",
      "/usr/local/lib/python2.7/dist-packages/ipykernel/__main__.py:64: UserWarning: genfromtxt: Empty input file: \"onsets/lmt/onset.lmt.080_phrase_reggae_simple_fast_sticks.csv\"\n",
      "/usr/local/lib/python2.7/dist-packages/ipykernel/__main__.py:64: UserWarning: genfromtxt: Empty input file: \"onsets/lmt/onset.lmt.045_phrase_rock_complex_slow_rods.csv\"\n",
      "/usr/local/lib/python2.7/dist-packages/ipykernel/__main__.py:64: UserWarning: genfromtxt: Empty input file: \"onsets/lmt/onset.lmt.046_phrase_rock_complex_medium_rods.csv\"\n"
     ]
    }
   ],
   "source": [
    "beat = []\n",
    "devs = []\n",
    "for file in os.listdir('sounds/'):\n",
    "\n",
    "    beats=[]\n",
    "    idealSixteenths = []\n",
    "    init_beat = []\n",
    "    end_beat = []\n",
    "    \n",
    "    if '.wav' not in file: continue\n",
    "    filename = file\n",
    "    load_file = 'sounds/' + filename  \n",
    "    \n",
    "    # load audio \n",
    "    loader = es.MonoLoader(filename=load_file)\n",
    "    audio = loader()\n",
    "\n",
    "    # find beats\n",
    "    bt = es.BeatTrackerMultiFeature()\n",
    "    beats, _ = bt(audio)\n",
    "\n",
    "    # check if beats are %4\n",
    "    if len(beats)%4 == 0:\n",
    "        print 'The song is probably in 4/4'\n",
    "    else:\n",
    "        beat_outliers.append(file)\n",
    "    # save graph to specific folder\n",
    "\n",
    "    # create metrical grid:\n",
    "    a = len(beats) - 1\n",
    "    init_beat = beats[0]\n",
    "    end_beat = beats[a]\n",
    "\n",
    "    # equally spaced lines\n",
    "    ids_range = len(beats)*4\n",
    "    idealSixteenths = np.linspace(init_beat, end_beat, ids_range)\n",
    "\n",
    "    #file = filename\n",
    "    #filejpg = 'plots/'+'plot.' + file[:-3] + 'png'\n",
    "\n",
    "    fs=44100\n",
    "    t = np.arange(len(audio))/float(fs)\n",
    "    plt.plot(t, audio)\n",
    "    for loc in idealSixteenths:\n",
    "        plt.axvline(x=loc, color='y')\n",
    "    #for i in range(len(beats)):\n",
    "    #    plt.axvline(idealSixteenths[4*i], color = 'r')\n",
    "\n",
    "    title = file[:-4] \n",
    "    plt.title(title)\n",
    "    plt.xlabel('time')\n",
    "    plt.ylabel('audio')\n",
    "    # plt.savefig(filejpg)\n",
    "    plt.close()\n",
    "\n",
    "    # save metrical grid to file\n",
    "    # should be used for later analysis of the instruments\n",
    "\n",
    "    #filetxt = 'metrical_grid/'+'metgrid.' + file[:-3] + 'txt' #or csv?\n",
    "    #np.savetxt(filetxt, idealSixteenths)\n",
    "\n",
    "    # read annotated onsets from csv-file\n",
    "    read_onset = 'onsets/lmt/' + 'onset.lmt.' + filename[:-3] + 'csv'\n",
    "    onsets = np.genfromtxt(read_onset)\n",
    "\n",
    "    # find nearest neighbour\n",
    "\n",
    "    for onset in onsets:\n",
    "        devs.append(nearestNeighbour(onset, idealSixteenths))\n",
    "\n",
    "    # print devs\n",
    "    \n",
    "    # see amount of onsets per ideal sixteenths:\n",
    "    # Counter(elem[0] for elem in devs)"
   ]
  },
  {
   "cell_type": "code",
   "execution_count": 133,
   "metadata": {
    "collapsed": false
   },
   "outputs": [
    {
     "data": {
      "text/plain": [
       "[]"
      ]
     },
     "execution_count": 133,
     "metadata": {},
     "output_type": "execute_result"
    }
   ],
   "source": [
    "devs"
   ]
  },
  {
   "cell_type": "markdown",
   "metadata": {},
   "source": [
    "It appears that this drummer doesn't make use of the low mid-tom!"
   ]
  },
  {
   "cell_type": "markdown",
   "metadata": {},
   "source": [
    "# #5: Toms"
   ]
  },
  {
   "cell_type": "code",
   "execution_count": 119,
   "metadata": {
    "collapsed": false
   },
   "outputs": [
    {
     "name": "stdout",
     "output_type": "stream",
     "text": [
      "The song is probably in 4/4\n"
     ]
    },
    {
     "name": "stderr",
     "output_type": "stream",
     "text": [
      "/usr/local/lib/python2.7/dist-packages/ipykernel/__main__.py:64: UserWarning: genfromtxt: Empty input file: \"onsets/toms/onset.toms.037_phrase_disco_simple_medium_sticks.csv\"\n"
     ]
    },
    {
     "name": "stdout",
     "output_type": "stream",
     "text": [
      "The song is probably in 4/4\n"
     ]
    },
    {
     "name": "stderr",
     "output_type": "stream",
     "text": [
      "/usr/local/lib/python2.7/dist-packages/ipykernel/__main__.py:64: UserWarning: genfromtxt: Empty input file: \"onsets/toms/onset.toms.066_phrase_shuffle-blues_simple_slow_brushes.csv\"\n"
     ]
    },
    {
     "name": "stdout",
     "output_type": "stream",
     "text": [
      "The song is probably in 4/4\n"
     ]
    },
    {
     "name": "stderr",
     "output_type": "stream",
     "text": [
      "/usr/local/lib/python2.7/dist-packages/ipykernel/__main__.py:64: UserWarning: genfromtxt: Empty input file: \"onsets/toms/onset.toms.086_phrase_waltz_simple_fast_brushes.csv\"\n"
     ]
    },
    {
     "name": "stdout",
     "output_type": "stream",
     "text": [
      "The song is probably in 4/4\n"
     ]
    },
    {
     "name": "stderr",
     "output_type": "stream",
     "text": [
      "/usr/local/lib/python2.7/dist-packages/ipykernel/__main__.py:64: UserWarning: genfromtxt: Empty input file: \"onsets/toms/onset.toms.036_phrase_disco_simple_slow_sticks.csv\"\n"
     ]
    },
    {
     "name": "stdout",
     "output_type": "stream",
     "text": [
      "The song is probably in 4/4\n"
     ]
    },
    {
     "name": "stderr",
     "output_type": "stream",
     "text": [
      "/usr/local/lib/python2.7/dist-packages/ipykernel/__main__.py:64: UserWarning: genfromtxt: Empty input file: \"onsets/toms/onset.toms.044_phrase_rock_simple_fast_rods.csv\"\n",
      "/usr/local/lib/python2.7/dist-packages/ipykernel/__main__.py:64: UserWarning: genfromtxt: Empty input file: \"onsets/toms/onset.toms.038_phrase_disco_simple_fast_sticks.csv\"\n"
     ]
    },
    {
     "name": "stdout",
     "output_type": "stream",
     "text": [
      "The song is probably in 4/4\n"
     ]
    },
    {
     "name": "stderr",
     "output_type": "stream",
     "text": [
      "/usr/local/lib/python2.7/dist-packages/ipykernel/__main__.py:64: UserWarning: genfromtxt: Empty input file: \"onsets/toms/onset.toms.061_phrase_salsa_simple_medium_sticks.csv\"\n",
      "/usr/local/lib/python2.7/dist-packages/ipykernel/__main__.py:64: UserWarning: genfromtxt: Empty input file: \"onsets/toms/onset.toms.079_phrase_reggae_simple_medium_sticks.csv\"\n",
      "/usr/local/lib/python2.7/dist-packages/ipykernel/__main__.py:64: UserWarning: genfromtxt: Empty input file: \"onsets/toms/onset.toms.068_phrase_shuffle-blues_simple_fast_brushes.csv\"\n"
     ]
    },
    {
     "name": "stdout",
     "output_type": "stream",
     "text": [
      "The song is probably in 4/4\n",
      "The song is probably in 4/4\n"
     ]
    },
    {
     "name": "stderr",
     "output_type": "stream",
     "text": [
      "/usr/local/lib/python2.7/dist-packages/ipykernel/__main__.py:64: UserWarning: genfromtxt: Empty input file: \"onsets/toms/onset.toms.043_phrase_rock_simple_medium_rods.csv\"\n"
     ]
    },
    {
     "name": "stdout",
     "output_type": "stream",
     "text": [
      "The song is probably in 4/4\n"
     ]
    },
    {
     "name": "stderr",
     "output_type": "stream",
     "text": [
      "/usr/local/lib/python2.7/dist-packages/ipykernel/__main__.py:64: UserWarning: genfromtxt: Empty input file: \"onsets/toms/onset.toms.085_phrase_waltz_simple_medium_brushes.csv\"\n"
     ]
    },
    {
     "name": "stdout",
     "output_type": "stream",
     "text": [
      "The song is probably in 4/4\n",
      "The song is probably in 4/4\n"
     ]
    },
    {
     "name": "stderr",
     "output_type": "stream",
     "text": [
      "/usr/local/lib/python2.7/dist-packages/ipykernel/__main__.py:64: UserWarning: genfromtxt: Empty input file: \"onsets/toms/onset.toms.042_phrase_rock_simple_slow_rods.csv\"\n",
      "/usr/local/lib/python2.7/dist-packages/ipykernel/__main__.py:64: UserWarning: genfromtxt: Empty input file: \"onsets/toms/onset.toms.078_phrase_reggae_simple_slow_sticks.csv\"\n"
     ]
    },
    {
     "name": "stdout",
     "output_type": "stream",
     "text": [
      "The song is probably in 4/4\n"
     ]
    },
    {
     "name": "stderr",
     "output_type": "stream",
     "text": [
      "/usr/local/lib/python2.7/dist-packages/ipykernel/__main__.py:64: UserWarning: genfromtxt: Empty input file: \"onsets/toms/onset.toms.084_phrase_waltz_simple_slow_brushes.csv\"\n",
      "/usr/local/lib/python2.7/dist-packages/ipykernel/__main__.py:64: UserWarning: genfromtxt: Empty input file: \"onsets/toms/onset.toms.060_phrase_salsa_simple_slow_sticks.csv\"\n",
      "/usr/local/lib/python2.7/dist-packages/ipykernel/__main__.py:64: UserWarning: genfromtxt: Empty input file: \"onsets/toms/onset.toms.067_phrase_shuffle-blues_simple_medium_brushes.csv\"\n"
     ]
    },
    {
     "name": "stdout",
     "output_type": "stream",
     "text": [
      "The song is probably in 4/4\n",
      "The song is probably in 4/4\n"
     ]
    },
    {
     "name": "stderr",
     "output_type": "stream",
     "text": [
      "/usr/local/lib/python2.7/dist-packages/ipykernel/__main__.py:64: UserWarning: genfromtxt: Empty input file: \"onsets/toms/onset.toms.080_phrase_reggae_simple_fast_sticks.csv\"\n"
     ]
    }
   ],
   "source": [
    "beat = []\n",
    "devs = []\n",
    "for file in os.listdir('sounds/'):\n",
    "\n",
    "    beats=[]\n",
    "    idealSixteenths = []\n",
    "    init_beat = []\n",
    "    end_beat = []\n",
    "    \n",
    "    if '.wav' not in file: continue\n",
    "    filename = file\n",
    "    load_file = 'sounds/' + filename  \n",
    "    \n",
    "    # load audio \n",
    "    loader = es.MonoLoader(filename=load_file)\n",
    "    audio = loader()\n",
    "\n",
    "    # find beats\n",
    "    bt = es.BeatTrackerMultiFeature()\n",
    "    beats, _ = bt(audio)\n",
    "\n",
    "    # create metrical grid:\n",
    "    a = len(beats) - 1\n",
    "    init_beat = beats[0]\n",
    "    end_beat = beats[a]\n",
    "\n",
    "    # equally spaced lines\n",
    "    ids_range = len(beats)*4\n",
    "    idealSixteenths = np.linspace(init_beat, end_beat, ids_range)\n",
    "\n",
    "    #file = filename\n",
    "    #filejpg = 'plots/'+'plot.' + file[:-3] + 'png'\n",
    "\n",
    "    fs=44100\n",
    "    t = np.arange(len(audio))/float(fs)\n",
    "    plt.plot(t, audio)\n",
    "    for loc in idealSixteenths:\n",
    "        plt.axvline(x=loc, color='y')\n",
    "    #for i in range(len(beats)):\n",
    "    #    plt.axvline(idealSixteenths[4*i], color = 'r')\n",
    "\n",
    "    title = file[:-4] \n",
    "    plt.title(title)\n",
    "    plt.xlabel('time')\n",
    "    plt.ylabel('audio')\n",
    "    # plt.savefig(filejpg)\n",
    "    plt.close()\n",
    "\n",
    "    # save metrical grid to file\n",
    "    # should be used for later analysis of the instruments\n",
    "\n",
    "    #filetxt = 'metrical_grid/'+'metgrid.' + file[:-3] + 'txt' #or csv?\n",
    "    #np.savetxt(filetxt, idealSixteenths)\n",
    "\n",
    "    # read annotated onsets from csv-file\n",
    "    read_onset = 'onsets/toms/' + 'onset.toms.' + filename[:-3] + 'csv'\n",
    "    onsets = np.genfromtxt(read_onset)\n",
    "\n",
    "    # find nearest neighbour\n",
    "\n",
    "    for onset in onsets:\n",
    "        devs.append(nearestNeighbour(onset, idealSixteenths))\n",
    "\n",
    "    # print devs\n",
    "    \n",
    "    # see amount of onsets per ideal sixteenths:\n",
    "    # Counter(elem[0] for elem in devs)"
   ]
  },
  {
   "cell_type": "code",
   "execution_count": 120,
   "metadata": {
    "collapsed": false
   },
   "outputs": [],
   "source": [
    "ids_one = [item for item in devs if item[0] == 1]\n",
    "ids_two = [item for item in devs if item[0] == 2]\n",
    "ids_three = [item for item in devs if item[0] == 3]\n",
    "ids_four = [item for item in devs if item[0] == 4]\n",
    "ids_five = [item for item in devs if item[0] == 5]\n",
    "ids_six = [item for item in devs if item[0] == 6]\n",
    "ids_seven = [item for item in devs if item[0] == 7]\n",
    "ids_eight = [item for item in devs if item[0] == 8]\n",
    "ids_nine = [item for item in devs if item[0] == 9]\n",
    "ids_ten = [item for item in devs if item[0] == 10]\n",
    "ids_eleven = [item for item in devs if item[0] == 11]\n",
    "ids_twelve = [item for item in devs if item[0] == 12]\n",
    "ids_thirteen = [item for item in devs if item[0] == 13]\n",
    "ids_fourteen = [item for item in devs if item[0] == 14]\n",
    "ids_fifteen = [item for item in devs if item[0] == 15]\n",
    "ids_sixteen = [item for item in devs if item[0] == 16]\n",
    "\n",
    "c_one = Counter(elem[1] for elem in ids_one)\n",
    "c_two = Counter(elem[1] for elem in ids_two)\n",
    "c_three = Counter(elem[1] for elem in ids_three)\n",
    "c_four = Counter(elem[1] for elem in ids_four)\n",
    "c_five = Counter(elem[1] for elem in ids_five)\n",
    "c_six = Counter(elem[1] for elem in ids_six)\n",
    "c_seven = Counter(elem[1] for elem in ids_seven)\n",
    "c_eight = Counter(elem[1] for elem in ids_eight)\n",
    "c_nine = Counter(elem[1] for elem in ids_nine)\n",
    "c_ten = Counter(elem[1] for elem in ids_ten)\n",
    "c_eleven = Counter(elem[1] for elem in ids_eleven)\n",
    "c_twelve = Counter(elem[1] for elem in ids_twelve)\n",
    "c_thirteen = Counter(elem[1] for elem in ids_thirteen)\n",
    "c_fourteen = Counter(elem[1] for elem in ids_fourteen)\n",
    "c_fifteen = Counter(elem[1] for elem in ids_fifteen)\n",
    "c_sixteen = Counter(elem[1] for elem in ids_sixteen)"
   ]
  },
  {
   "cell_type": "code",
   "execution_count": 121,
   "metadata": {
    "collapsed": false
   },
   "outputs": [
    {
     "data": {
      "image/png": "[encoded data removed]",
      "text/plain": [
       "<matplotlib.figure.Figure at 0xa908edac>"
      ]
     },
     "metadata": {},
     "output_type": "display_data"
    }
   ],
   "source": [
    "plot_histogramm1(c_one.keys(), c_two.keys(), c_three.keys(), c_four.keys())"
   ]
  },
  {
   "cell_type": "code",
   "execution_count": 122,
   "metadata": {
    "collapsed": false
   },
   "outputs": [
    {
     "data": {
      "image/png": "[encoded data removed]",
      "text/plain": [
       "<matplotlib.figure.Figure at 0xa2918d8c>"
      ]
     },
     "metadata": {},
     "output_type": "display_data"
    }
   ],
   "source": [
    "plot_histogramm2(c_five.keys(), c_six.keys(), c_seven.keys(), c_eight.keys())"
   ]
  },
  {
   "cell_type": "code",
   "execution_count": 123,
   "metadata": {
    "collapsed": false
   },
   "outputs": [
    {
     "data": {
      "image/png": "[encoded data removed]",
      "text/plain": [
       "<matplotlib.figure.Figure at 0xa8dfca2c>"
      ]
     },
     "metadata": {},
     "output_type": "display_data"
    }
   ],
   "source": [
    "plot_histogramm3(c_nine.keys(), c_ten.keys(), c_eleven.keys(), c_twelve.keys())"
   ]
  },
  {
   "cell_type": "code",
   "execution_count": 124,
   "metadata": {
    "collapsed": false
   },
   "outputs": [
    {
     "data": {
      "image/png": "[encoded data removed]",
      "text/plain": [
       "<matplotlib.figure.Figure at 0x8c4ca36c>"
      ]
     },
     "metadata": {},
     "output_type": "display_data"
    }
   ],
   "source": [
    "plot_histogramm4(c_thirteen.keys(), c_fourteen.keys(), c_fifteen.keys(), c_sixteen.keys())"
   ]
  },
  {
   "cell_type": "code",
   "execution_count": 125,
   "metadata": {
    "collapsed": false
   },
   "outputs": [
    {
     "data": {
      "image/png": "[encoded data removed]",
      "text/plain": [
       "<matplotlib.figure.Figure at 0x9b5c51ec>"
      ]
     },
     "metadata": {},
     "output_type": "display_data"
    }
   ],
   "source": [
    "plot_boxplot1(c_one.keys(), c_two.keys(), c_three.keys(), c_four.keys())"
   ]
  },
  {
   "cell_type": "code",
   "execution_count": 126,
   "metadata": {
    "collapsed": false
   },
   "outputs": [
    {
     "data": {
      "image/png": "[encoded data removed]",
      "text/plain": [
       "<matplotlib.figure.Figure at 0x8f64892c>"
      ]
     },
     "metadata": {},
     "output_type": "display_data"
    }
   ],
   "source": [
    "plot_boxplot2(c_five.keys(), c_six.keys(),c_seven.keys(), c_eight.keys())"
   ]
  },
  {
   "cell_type": "code",
   "execution_count": 127,
   "metadata": {
    "collapsed": false
   },
   "outputs": [
    {
     "data": {
      "image/png": "[encoded data removed]",
      "text/plain": [
       "<matplotlib.figure.Figure at 0x8c60aaec>"
      ]
     },
     "metadata": {},
     "output_type": "display_data"
    }
   ],
   "source": [
    "plot_boxplot3(c_nine.keys(), c_ten.keys(),c_eleven.keys(), c_twelve.keys())"
   ]
  },
  {
   "cell_type": "code",
   "execution_count": 128,
   "metadata": {
    "collapsed": false
   },
   "outputs": [
    {
     "data": {
      "image/png": "[encoded data removed]",
      "text/plain": [
       "<matplotlib.figure.Figure at 0x9a97316c>"
      ]
     },
     "metadata": {},
     "output_type": "display_data"
    }
   ],
   "source": [
    "plot_boxplot4(c_thirteen.keys(), c_fourteen.keys(),c_fifteen.keys(), c_sixteen.keys())"
   ]
  },
  {
   "cell_type": "markdown",
   "metadata": {},
   "source": [
    "# #6 Cymbals"
   ]
  },
  {
   "cell_type": "code",
   "execution_count": 129,
   "metadata": {
    "collapsed": true
   },
   "outputs": [],
   "source": [
    "#6: ride cymbal (rc), chinese ride cymbal (ch), crash cymbal (cr), splash cymbal (spl)"
   ]
  },
  {
   "cell_type": "code",
   "execution_count": 135,
   "metadata": {
    "collapsed": false
   },
   "outputs": [],
   "source": [
    "beat = []\n",
    "devs = []\n",
    "for file in os.listdir('sounds/'):\n",
    "\n",
    "    beats=[]\n",
    "    idealSixteenths = []\n",
    "    init_beat = []\n",
    "    end_beat = []\n",
    "    \n",
    "    if '.wav' not in file: continue\n",
    "    filename = file\n",
    "    load_file = 'sounds/' + filename  \n",
    "    \n",
    "    # load audio \n",
    "    loader = es.MonoLoader(filename=load_file)\n",
    "    audio = loader()\n",
    "\n",
    "    # find beats\n",
    "    bt = es.BeatTrackerMultiFeature()\n",
    "    beats, _ = bt(audio)\n",
    "\n",
    "    # create metrical grid:\n",
    "    a = len(beats) - 1\n",
    "    init_beat = beats[0]\n",
    "    end_beat = beats[a]\n",
    "\n",
    "    # equally spaced lines\n",
    "    ids_range = len(beats)*4\n",
    "    idealSixteenths = np.linspace(init_beat, end_beat, ids_range)\n",
    "\n",
    "    file = filename\n",
    "    filejpg = 'plots/'+'plot.' + file[:-3] + 'png'\n",
    "\n",
    "    fs=44100\n",
    "    t = np.arange(len(audio))/float(fs)\n",
    "    plt.plot(t, audio)\n",
    "    for loc in idealSixteenths:\n",
    "        plt.axvline(x=loc, color='y')\n",
    "    #for i in range(len(beats)):\n",
    "    #    plt.axvline(idealSixteenths[4*i], color = 'r')\n",
    "\n",
    "    title = file[:-4] \n",
    "    plt.title(title)\n",
    "    plt.xlabel('time')\n",
    "    plt.ylabel('audio')\n",
    "    plt.savefig(filejpg)\n",
    "    plt.close()\n",
    "\n",
    "    # save metrical grid to file\n",
    "    # should be used for later analysis of the instruments\n",
    "\n",
    "    filetxt = 'metrical_grid/'+'metgrid.' + file[:-3] + 'txt' #or csv?\n",
    "    np.savetxt(filetxt, idealSixteenths)\n",
    "\n",
    "    # read annotated onsets from csv-file\n",
    "    read_onset = 'onsets/' + 'onset.' + filename[:-3] + 'csv'\n",
    "    onsets = np.genfromtxt(read_onset)\n",
    "\n",
    "    # find nearest neighbour\n",
    "\n",
    "    for onset in onsets:\n",
    "        devs.append(nearestNeighbour(onset, idealSixteenths))\n",
    "\n",
    "    # print devs\n",
    "    \n",
    "    # see amount of onsets per ideal sixteenths:\n",
    "    # Counter(elem[0] for elem in devs)"
   ]
  },
  {
   "cell_type": "code",
   "execution_count": 136,
   "metadata": {
    "collapsed": true
   },
   "outputs": [],
   "source": [
    "ids_one = [item for item in devs if item[0] == 1]\n",
    "ids_two = [item for item in devs if item[0] == 2]\n",
    "ids_three = [item for item in devs if item[0] == 3]\n",
    "ids_four = [item for item in devs if item[0] == 4]\n",
    "ids_five = [item for item in devs if item[0] == 5]\n",
    "ids_six = [item for item in devs if item[0] == 6]\n",
    "ids_seven = [item for item in devs if item[0] == 7]\n",
    "ids_eight = [item for item in devs if item[0] == 8]\n",
    "ids_nine = [item for item in devs if item[0] == 9]\n",
    "ids_ten = [item for item in devs if item[0] == 10]\n",
    "ids_eleven = [item for item in devs if item[0] == 11]\n",
    "ids_twelve = [item for item in devs if item[0] == 12]\n",
    "ids_thirteen = [item for item in devs if item[0] == 13]\n",
    "ids_fourteen = [item for item in devs if item[0] == 14]\n",
    "ids_fifteen = [item for item in devs if item[0] == 15]\n",
    "ids_sixteen = [item for item in devs if item[0] == 16]\n",
    "\n",
    "c_one = Counter(elem[1] for elem in ids_one)\n",
    "c_two = Counter(elem[1] for elem in ids_two)\n",
    "c_three = Counter(elem[1] for elem in ids_three)\n",
    "c_four = Counter(elem[1] for elem in ids_four)\n",
    "c_five = Counter(elem[1] for elem in ids_five)\n",
    "c_six = Counter(elem[1] for elem in ids_six)\n",
    "c_seven = Counter(elem[1] for elem in ids_seven)\n",
    "c_eight = Counter(elem[1] for elem in ids_eight)\n",
    "c_nine = Counter(elem[1] for elem in ids_nine)\n",
    "c_ten = Counter(elem[1] for elem in ids_ten)\n",
    "c_eleven = Counter(elem[1] for elem in ids_eleven)\n",
    "c_twelve = Counter(elem[1] for elem in ids_twelve)\n",
    "c_thirteen = Counter(elem[1] for elem in ids_thirteen)\n",
    "c_fourteen = Counter(elem[1] for elem in ids_fourteen)\n",
    "c_fifteen = Counter(elem[1] for elem in ids_fifteen)\n",
    "c_sixteen = Counter(elem[1] for elem in ids_sixteen)"
   ]
  },
  {
   "cell_type": "code",
   "execution_count": 137,
   "metadata": {
    "collapsed": false
   },
   "outputs": [
    {
     "data": {
      "image/png": "[encoded data removed]",
      "text/plain": [
       "<matplotlib.figure.Figure at 0xa75823ec>"
      ]
     },
     "metadata": {},
     "output_type": "display_data"
    }
   ],
   "source": [
    "plot_histogramm1(c_one.keys(), c_two.keys(), c_three.keys(), c_four.keys())"
   ]
  },
  {
   "cell_type": "code",
   "execution_count": 138,
   "metadata": {
    "collapsed": false
   },
   "outputs": [
    {
     "data": {
      "image/png": "[encoded data removed]",
      "text/plain": [
       "<matplotlib.figure.Figure at 0x9e64f6cc>"
      ]
     },
     "metadata": {},
     "output_type": "display_data"
    }
   ],
   "source": [
    "plot_histogramm2(c_five.keys(), c_six.keys(), c_seven.keys(), c_eight.keys())"
   ]
  },
  {
   "cell_type": "code",
   "execution_count": 139,
   "metadata": {
    "collapsed": false
   },
   "outputs": [
    {
     "data": {
      "image/png": "[encoded data removed]",
      "text/plain": [
       "<matplotlib.figure.Figure at 0xa2996f2c>"
      ]
     },
     "metadata": {},
     "output_type": "display_data"
    }
   ],
   "source": [
    "plot_histogramm3(c_nine.keys(), c_ten.keys(), c_eleven.keys(), c_twelve.keys())"
   ]
  },
  {
   "cell_type": "code",
   "execution_count": 140,
   "metadata": {
    "collapsed": false
   },
   "outputs": [
    {
     "data": {
      "image/png": "[encoded data removed]",
      "text/plain": [
       "<matplotlib.figure.Figure at 0x820db76c>"
      ]
     },
     "metadata": {},
     "output_type": "display_data"
    }
   ],
   "source": [
    "plot_histogramm4(c_thirteen.keys(), c_fourteen.keys(), c_fifteen.keys(), c_sixteen.keys())"
   ]
  },
  {
   "cell_type": "code",
   "execution_count": 141,
   "metadata": {
    "collapsed": false
   },
   "outputs": [
    {
     "data": {
      "image/png": "[encoded data removed]",
      "text/plain": [
       "<matplotlib.figure.Figure at 0xa4f7b72c>"
      ]
     },
     "metadata": {},
     "output_type": "display_data"
    }
   ],
   "source": [
    "plot_boxplot1(c_one.keys(), c_two.keys(), c_three.keys(), c_four.keys())  "
   ]
  },
  {
   "cell_type": "code",
   "execution_count": 142,
   "metadata": {
    "collapsed": false
   },
   "outputs": [
    {
     "data": {
      "image/png": "[encoded data removed]",
      "text/plain": [
       "<matplotlib.figure.Figure at 0xa2acc34c>"
      ]
     },
     "metadata": {},
     "output_type": "display_data"
    }
   ],
   "source": [
    "\n",
    "plot_boxplot2(c_five.keys(), c_six.keys(),c_seven.keys(), c_eight.keys())"
   ]
  },
  {
   "cell_type": "code",
   "execution_count": 143,
   "metadata": {
    "collapsed": false
   },
   "outputs": [
    {
     "data": {
      "image/png": "[encoded data removed]",
      "text/plain": [
       "<matplotlib.figure.Figure at 0xa223c28c>"
      ]
     },
     "metadata": {},
     "output_type": "display_data"
    }
   ],
   "source": [
    "\n",
    "plot_boxplot3(c_nine.keys(), c_ten.keys(),c_eleven.keys(), c_twelve.keys())"
   ]
  },
  {
   "cell_type": "code",
   "execution_count": 144,
   "metadata": {
    "collapsed": false
   },
   "outputs": [
    {
     "data": {
      "image/png": "[encoded data removed]",
      "text/plain": [
       "<matplotlib.figure.Figure at 0xa1dafe4c>"
      ]
     },
     "metadata": {},
     "output_type": "display_data"
    }
   ],
   "source": [
    "\n",
    "plot_boxplot4(c_thirteen.keys(), c_fourteen.keys(),c_fifteen.keys(), c_sixteen.keys())"
   ]
  },
  {
   "cell_type": "code",
   "execution_count": null,
   "metadata": {
    "collapsed": true
   },
   "outputs": [],
   "source": [
    "# c_item = sorted(c_one.items(), key = lambda x:float(x[0])) # properly ascending list"
   ]
  }
 ],
 "metadata": {
  "kernelspec": {
   "display_name": "Python 2",
   "language": "python",
   "name": "python2"
  },
  "language_info": {
   "codemirror_mode": {
    "name": "ipython",
    "version": 2
   },
   "file_extension": ".py",
   "mimetype": "text/x-python",
   "name": "python",
   "nbconvert_exporter": "python",
   "pygments_lexer": "ipython2",
   "version": "2.7.6"
  }
 },
 "nbformat": 4,
 "nbformat_minor": 2
}
